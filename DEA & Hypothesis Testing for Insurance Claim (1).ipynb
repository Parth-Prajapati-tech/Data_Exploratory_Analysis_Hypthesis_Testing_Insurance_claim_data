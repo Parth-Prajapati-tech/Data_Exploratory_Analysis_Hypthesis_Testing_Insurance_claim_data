{
 "cells": [
  {
   "cell_type": "markdown",
   "id": "fed8453b-6a43-4cf4-808c-3e2213b62357",
   "metadata": {},
   "source": [
    "Business Questitions:\n",
    "1. Import Claim_data.csv and cust_data.csv and combined the two datasets appropriately to create 360 view of the data."
   ]
  },
  {
   "cell_type": "code",
   "execution_count": 1,
   "id": "93dd8055-9b6e-4190-979e-ee36554ec87b",
   "metadata": {},
   "outputs": [],
   "source": [
    "import pandas as pd\n",
    "import numpy as np\n",
    "import datetime as dt\n",
    "import matplotlib.pyplot as plt\n",
    "%matplotlib inline\n",
    "import seaborn as sns\n",
    "import warnings\n",
    "warnings.filterwarnings('ignore')\n",
    "from scipy import stats as stats"
   ]
  },
  {
   "cell_type": "code",
   "execution_count": 2,
   "id": "bd706cc1-9a92-4f31-9ff3-ae9693546254",
   "metadata": {},
   "outputs": [],
   "source": [
    "Cust_df = pd.read_csv('C://Users//Om Computers//Desktop//Projects//Python for Analytics - Projects_//Python for Analytics - Projects_Parth//Case Study 3 - Insurance Claims Case Study//cust_demographics.csv')\n",
    "Claim_df = pd.read_csv('C://Users//Om Computers//Desktop//Projects//Python for Analytics - Projects_//Python for Analytics - Projects_Parth//Case Study 3 - Insurance Claims Case Study//claims.csv')"
   ]
  },
  {
   "cell_type": "code",
   "execution_count": 3,
   "id": "2bcf2c99-1aa0-488b-9d20-eda027b73b29",
   "metadata": {},
   "outputs": [
    {
     "data": {
      "text/html": [
       "<div>\n",
       "<style scoped>\n",
       "    .dataframe tbody tr th:only-of-type {\n",
       "        vertical-align: middle;\n",
       "    }\n",
       "\n",
       "    .dataframe tbody tr th {\n",
       "        vertical-align: top;\n",
       "    }\n",
       "\n",
       "    .dataframe thead th {\n",
       "        text-align: right;\n",
       "    }\n",
       "</style>\n",
       "<table border=\"1\" class=\"dataframe\">\n",
       "  <thead>\n",
       "    <tr style=\"text-align: right;\">\n",
       "      <th></th>\n",
       "      <th>CUST_ID</th>\n",
       "      <th>gender</th>\n",
       "      <th>DateOfBirth</th>\n",
       "      <th>State</th>\n",
       "      <th>Contact</th>\n",
       "      <th>Segment</th>\n",
       "    </tr>\n",
       "  </thead>\n",
       "  <tbody>\n",
       "    <tr>\n",
       "      <th>0</th>\n",
       "      <td>21868593</td>\n",
       "      <td>Female</td>\n",
       "      <td>12-Jan-79</td>\n",
       "      <td>VT</td>\n",
       "      <td>789-916-8172</td>\n",
       "      <td>Platinum</td>\n",
       "    </tr>\n",
       "    <tr>\n",
       "      <th>1</th>\n",
       "      <td>75740424</td>\n",
       "      <td>Female</td>\n",
       "      <td>13-Jan-70</td>\n",
       "      <td>ME</td>\n",
       "      <td>265-543-1264</td>\n",
       "      <td>Silver</td>\n",
       "    </tr>\n",
       "  </tbody>\n",
       "</table>\n",
       "</div>"
      ],
      "text/plain": [
       "    CUST_ID  gender DateOfBirth State       Contact   Segment\n",
       "0  21868593  Female   12-Jan-79    VT  789-916-8172  Platinum\n",
       "1  75740424  Female   13-Jan-70    ME  265-543-1264    Silver"
      ]
     },
     "execution_count": 3,
     "metadata": {},
     "output_type": "execute_result"
    }
   ],
   "source": [
    "Cust_df.head(2)"
   ]
  },
  {
   "cell_type": "code",
   "execution_count": 4,
   "id": "b6b479c2-0fde-42a7-953c-e113dfa18d08",
   "metadata": {},
   "outputs": [
    {
     "data": {
      "text/html": [
       "<div>\n",
       "<style scoped>\n",
       "    .dataframe tbody tr th:only-of-type {\n",
       "        vertical-align: middle;\n",
       "    }\n",
       "\n",
       "    .dataframe tbody tr th {\n",
       "        vertical-align: top;\n",
       "    }\n",
       "\n",
       "    .dataframe thead th {\n",
       "        text-align: right;\n",
       "    }\n",
       "</style>\n",
       "<table border=\"1\" class=\"dataframe\">\n",
       "  <thead>\n",
       "    <tr style=\"text-align: right;\">\n",
       "      <th></th>\n",
       "      <th>claim_id</th>\n",
       "      <th>customer_id</th>\n",
       "      <th>incident_cause</th>\n",
       "      <th>claim_date</th>\n",
       "      <th>claim_area</th>\n",
       "      <th>police_report</th>\n",
       "      <th>claim_type</th>\n",
       "      <th>claim_amount</th>\n",
       "      <th>total_policy_claims</th>\n",
       "      <th>fraudulent</th>\n",
       "    </tr>\n",
       "  </thead>\n",
       "  <tbody>\n",
       "    <tr>\n",
       "      <th>0</th>\n",
       "      <td>54004764</td>\n",
       "      <td>21868593</td>\n",
       "      <td>Driver error</td>\n",
       "      <td>11/27/2017</td>\n",
       "      <td>Auto</td>\n",
       "      <td>No</td>\n",
       "      <td>Material only</td>\n",
       "      <td>$2980</td>\n",
       "      <td>1.0</td>\n",
       "      <td>No</td>\n",
       "    </tr>\n",
       "    <tr>\n",
       "      <th>1</th>\n",
       "      <td>33985796</td>\n",
       "      <td>75740424</td>\n",
       "      <td>Crime</td>\n",
       "      <td>10/03/2018</td>\n",
       "      <td>Home</td>\n",
       "      <td>Unknown</td>\n",
       "      <td>Material only</td>\n",
       "      <td>$2980</td>\n",
       "      <td>3.0</td>\n",
       "      <td>No</td>\n",
       "    </tr>\n",
       "  </tbody>\n",
       "</table>\n",
       "</div>"
      ],
      "text/plain": [
       "   claim_id  customer_id incident_cause  claim_date claim_area police_report  \\\n",
       "0  54004764     21868593   Driver error  11/27/2017       Auto            No   \n",
       "1  33985796     75740424          Crime  10/03/2018       Home       Unknown   \n",
       "\n",
       "      claim_type claim_amount  total_policy_claims fraudulent  \n",
       "0  Material only        $2980                  1.0         No  \n",
       "1  Material only        $2980                  3.0         No  "
      ]
     },
     "execution_count": 4,
     "metadata": {},
     "output_type": "execute_result"
    }
   ],
   "source": [
    "Claim_df.head(2)"
   ]
  },
  {
   "cell_type": "code",
   "execution_count": 5,
   "id": "3b8b7d3f-25f0-41e2-b370-f2200313578c",
   "metadata": {},
   "outputs": [],
   "source": [
    "Cust_claim_df = pd.merge(left=Cust_df,right=Claim_df, left_on='CUST_ID', right_on='customer_id', how='right')"
   ]
  },
  {
   "cell_type": "code",
   "execution_count": 6,
   "id": "193e7e62-52e2-4ae9-b065-703a067cce4a",
   "metadata": {},
   "outputs": [
    {
     "data": {
      "text/html": [
       "<div>\n",
       "<style scoped>\n",
       "    .dataframe tbody tr th:only-of-type {\n",
       "        vertical-align: middle;\n",
       "    }\n",
       "\n",
       "    .dataframe tbody tr th {\n",
       "        vertical-align: top;\n",
       "    }\n",
       "\n",
       "    .dataframe thead th {\n",
       "        text-align: right;\n",
       "    }\n",
       "</style>\n",
       "<table border=\"1\" class=\"dataframe\">\n",
       "  <thead>\n",
       "    <tr style=\"text-align: right;\">\n",
       "      <th></th>\n",
       "      <th>CUST_ID</th>\n",
       "      <th>gender</th>\n",
       "      <th>DateOfBirth</th>\n",
       "      <th>State</th>\n",
       "      <th>Contact</th>\n",
       "      <th>Segment</th>\n",
       "      <th>claim_id</th>\n",
       "      <th>customer_id</th>\n",
       "      <th>incident_cause</th>\n",
       "      <th>claim_date</th>\n",
       "      <th>claim_area</th>\n",
       "      <th>police_report</th>\n",
       "      <th>claim_type</th>\n",
       "      <th>claim_amount</th>\n",
       "      <th>total_policy_claims</th>\n",
       "      <th>fraudulent</th>\n",
       "    </tr>\n",
       "  </thead>\n",
       "  <tbody>\n",
       "    <tr>\n",
       "      <th>0</th>\n",
       "      <td>21868593.0</td>\n",
       "      <td>Female</td>\n",
       "      <td>12-Jan-79</td>\n",
       "      <td>VT</td>\n",
       "      <td>789-916-8172</td>\n",
       "      <td>Platinum</td>\n",
       "      <td>54004764</td>\n",
       "      <td>21868593</td>\n",
       "      <td>Driver error</td>\n",
       "      <td>11/27/2017</td>\n",
       "      <td>Auto</td>\n",
       "      <td>No</td>\n",
       "      <td>Material only</td>\n",
       "      <td>$2980</td>\n",
       "      <td>1.0</td>\n",
       "      <td>No</td>\n",
       "    </tr>\n",
       "    <tr>\n",
       "      <th>1</th>\n",
       "      <td>75740424.0</td>\n",
       "      <td>Female</td>\n",
       "      <td>13-Jan-70</td>\n",
       "      <td>ME</td>\n",
       "      <td>265-543-1264</td>\n",
       "      <td>Silver</td>\n",
       "      <td>33985796</td>\n",
       "      <td>75740424</td>\n",
       "      <td>Crime</td>\n",
       "      <td>10/03/2018</td>\n",
       "      <td>Home</td>\n",
       "      <td>Unknown</td>\n",
       "      <td>Material only</td>\n",
       "      <td>$2980</td>\n",
       "      <td>3.0</td>\n",
       "      <td>No</td>\n",
       "    </tr>\n",
       "  </tbody>\n",
       "</table>\n",
       "</div>"
      ],
      "text/plain": [
       "      CUST_ID  gender DateOfBirth State       Contact   Segment  claim_id  \\\n",
       "0  21868593.0  Female   12-Jan-79    VT  789-916-8172  Platinum  54004764   \n",
       "1  75740424.0  Female   13-Jan-70    ME  265-543-1264    Silver  33985796   \n",
       "\n",
       "   customer_id incident_cause  claim_date claim_area police_report  \\\n",
       "0     21868593   Driver error  11/27/2017       Auto            No   \n",
       "1     75740424          Crime  10/03/2018       Home       Unknown   \n",
       "\n",
       "      claim_type claim_amount  total_policy_claims fraudulent  \n",
       "0  Material only        $2980                  1.0         No  \n",
       "1  Material only        $2980                  3.0         No  "
      ]
     },
     "execution_count": 6,
     "metadata": {},
     "output_type": "execute_result"
    }
   ],
   "source": [
    "Cust_claim_df.head(2)"
   ]
  },
  {
   "cell_type": "code",
   "execution_count": 7,
   "id": "8725baf5-a395-4db9-aa5b-e70d99252308",
   "metadata": {},
   "outputs": [],
   "source": [
    "Cust_claim_df.drop(columns='CUST_ID',inplace=True)"
   ]
  },
  {
   "cell_type": "markdown",
   "id": "eb1ab3a0-8300-4e6c-bd23-a93f3ca81e62",
   "metadata": {},
   "source": [
    "2. Perform the data audit for the data types and find out if there are any mismatch within the current datatypes of the columns and their business         significance."
   ]
  },
  {
   "cell_type": "code",
   "execution_count": 8,
   "id": "5cee3c34-e955-4974-88a8-0f10fbaa891f",
   "metadata": {},
   "outputs": [
    {
     "name": "stdout",
     "output_type": "stream",
     "text": [
      "<class 'pandas.core.frame.DataFrame'>\n",
      "RangeIndex: 1100 entries, 0 to 1099\n",
      "Data columns (total 15 columns):\n",
      " #   Column               Non-Null Count  Dtype  \n",
      "---  ------               --------------  -----  \n",
      " 0   gender               1085 non-null   object \n",
      " 1   DateOfBirth          1085 non-null   object \n",
      " 2   State                1085 non-null   object \n",
      " 3   Contact              1085 non-null   object \n",
      " 4   Segment              1085 non-null   object \n",
      " 5   claim_id             1100 non-null   int64  \n",
      " 6   customer_id          1100 non-null   int64  \n",
      " 7   incident_cause       1100 non-null   object \n",
      " 8   claim_date           1100 non-null   object \n",
      " 9   claim_area           1100 non-null   object \n",
      " 10  police_report        1100 non-null   object \n",
      " 11  claim_type           1100 non-null   object \n",
      " 12  claim_amount         1035 non-null   object \n",
      " 13  total_policy_claims  1090 non-null   float64\n",
      " 14  fraudulent           1100 non-null   object \n",
      "dtypes: float64(1), int64(2), object(12)\n",
      "memory usage: 129.0+ KB\n"
     ]
    }
   ],
   "source": [
    "Cust_claim_df.info()"
   ]
  },
  {
   "cell_type": "code",
   "execution_count": 9,
   "id": "2a60795b-1f86-4049-81e1-19027fbfdfc2",
   "metadata": {},
   "outputs": [],
   "source": [
    "Cust_claim_df['claim_date'] = pd.to_datetime(Cust_claim_df['claim_date'],errors='coerce')"
   ]
  },
  {
   "cell_type": "code",
   "execution_count": 10,
   "id": "ea73da5f-c606-45a8-bfd6-7c362695fd25",
   "metadata": {},
   "outputs": [],
   "source": [
    "Cust_claim_df['claim_date'] = pd.to_datetime(Cust_claim_df['claim_date'], format='%d-%m-%y')"
   ]
  },
  {
   "cell_type": "code",
   "execution_count": 11,
   "id": "a1bfede4-9a4f-4375-8e18-3acb19df73db",
   "metadata": {},
   "outputs": [],
   "source": [
    "Cust_claim_df['DateOfBirth'] = pd.to_datetime(Cust_claim_df['DateOfBirth'],errors='coerce')"
   ]
  },
  {
   "cell_type": "code",
   "execution_count": 12,
   "id": "33f54689-1aab-481e-8be1-73961ba98c49",
   "metadata": {},
   "outputs": [],
   "source": [
    "Cust_claim_df['DateOfBirth'] = pd.to_datetime(Cust_claim_df['DateOfBirth'],errors='%d-%m-%y')"
   ]
  },
  {
   "cell_type": "code",
   "execution_count": 13,
   "id": "6c7c9550-467b-40c6-a97d-a50f1d8d3f74",
   "metadata": {},
   "outputs": [
    {
     "name": "stdout",
     "output_type": "stream",
     "text": [
      "<class 'pandas.core.frame.DataFrame'>\n",
      "RangeIndex: 1100 entries, 0 to 1099\n",
      "Data columns (total 15 columns):\n",
      " #   Column               Non-Null Count  Dtype         \n",
      "---  ------               --------------  -----         \n",
      " 0   gender               1085 non-null   object        \n",
      " 1   DateOfBirth          1085 non-null   datetime64[ns]\n",
      " 2   State                1085 non-null   object        \n",
      " 3   Contact              1085 non-null   object        \n",
      " 4   Segment              1085 non-null   object        \n",
      " 5   claim_id             1100 non-null   int64         \n",
      " 6   customer_id          1100 non-null   int64         \n",
      " 7   incident_cause       1100 non-null   object        \n",
      " 8   claim_date           1100 non-null   datetime64[ns]\n",
      " 9   claim_area           1100 non-null   object        \n",
      " 10  police_report        1100 non-null   object        \n",
      " 11  claim_type           1100 non-null   object        \n",
      " 12  claim_amount         1035 non-null   object        \n",
      " 13  total_policy_claims  1090 non-null   float64       \n",
      " 14  fraudulent           1100 non-null   object        \n",
      "dtypes: datetime64[ns](2), float64(1), int64(2), object(10)\n",
      "memory usage: 129.0+ KB\n"
     ]
    }
   ],
   "source": [
    "Cust_claim_df.info()"
   ]
  },
  {
   "cell_type": "markdown",
   "id": "6d45f9ea-5cb8-481a-842d-309600d26be6",
   "metadata": {},
   "source": [
    "3. Convert the column claim_amount to numeric. Use the appropriate Modual/attributes to remove the $ sign."
   ]
  },
  {
   "cell_type": "code",
   "execution_count": 14,
   "id": "d77f8d7d-317d-49fc-aafe-da5a8ea8998b",
   "metadata": {},
   "outputs": [],
   "source": [
    "def remvdollor (x):\n",
    "    if pd.isnull(x):\n",
    "        return np.nan\n",
    "    else:\n",
    "        return x[1:]\n",
    "Cust_claim_df['claim_amount'] = Cust_claim_df['claim_amount'].apply(remvdollor)\n",
    "Cust_claim_df['claim_amount'] = Cust_claim_df['claim_amount'].astype('float64')"
   ]
  },
  {
   "cell_type": "markdown",
   "id": "dcf316c6-def6-4369-b9dd-4eb9eadd5f12",
   "metadata": {},
   "source": [
    "4. Of all the injuries claims,some of them have gone unreported with the police. create an alert flag (1,0) for all such claims."
   ]
  },
  {
   "cell_type": "code",
   "execution_count": 15,
   "id": "a0e79a14-4b48-4c8c-88ec-11b13e465992",
   "metadata": {},
   "outputs": [
    {
     "data": {
      "text/html": [
       "<div>\n",
       "<style scoped>\n",
       "    .dataframe tbody tr th:only-of-type {\n",
       "        vertical-align: middle;\n",
       "    }\n",
       "\n",
       "    .dataframe tbody tr th {\n",
       "        vertical-align: top;\n",
       "    }\n",
       "\n",
       "    .dataframe thead th {\n",
       "        text-align: right;\n",
       "    }\n",
       "</style>\n",
       "<table border=\"1\" class=\"dataframe\">\n",
       "  <thead>\n",
       "    <tr style=\"text-align: right;\">\n",
       "      <th></th>\n",
       "      <th>gender</th>\n",
       "      <th>DateOfBirth</th>\n",
       "      <th>State</th>\n",
       "      <th>Contact</th>\n",
       "      <th>Segment</th>\n",
       "      <th>claim_id</th>\n",
       "      <th>customer_id</th>\n",
       "      <th>incident_cause</th>\n",
       "      <th>claim_date</th>\n",
       "      <th>claim_area</th>\n",
       "      <th>police_report</th>\n",
       "      <th>claim_type</th>\n",
       "      <th>claim_amount</th>\n",
       "      <th>total_policy_claims</th>\n",
       "      <th>fraudulent</th>\n",
       "    </tr>\n",
       "  </thead>\n",
       "  <tbody>\n",
       "    <tr>\n",
       "      <th>0</th>\n",
       "      <td>Female</td>\n",
       "      <td>1979-01-12</td>\n",
       "      <td>VT</td>\n",
       "      <td>789-916-8172</td>\n",
       "      <td>Platinum</td>\n",
       "      <td>54004764</td>\n",
       "      <td>21868593</td>\n",
       "      <td>Driver error</td>\n",
       "      <td>2017-11-27</td>\n",
       "      <td>Auto</td>\n",
       "      <td>No</td>\n",
       "      <td>Material only</td>\n",
       "      <td>2980.0</td>\n",
       "      <td>1.0</td>\n",
       "      <td>No</td>\n",
       "    </tr>\n",
       "    <tr>\n",
       "      <th>1</th>\n",
       "      <td>Female</td>\n",
       "      <td>2070-01-13</td>\n",
       "      <td>ME</td>\n",
       "      <td>265-543-1264</td>\n",
       "      <td>Silver</td>\n",
       "      <td>33985796</td>\n",
       "      <td>75740424</td>\n",
       "      <td>Crime</td>\n",
       "      <td>2018-10-03</td>\n",
       "      <td>Home</td>\n",
       "      <td>Unknown</td>\n",
       "      <td>Material only</td>\n",
       "      <td>2980.0</td>\n",
       "      <td>3.0</td>\n",
       "      <td>No</td>\n",
       "    </tr>\n",
       "  </tbody>\n",
       "</table>\n",
       "</div>"
      ],
      "text/plain": [
       "   gender DateOfBirth State       Contact   Segment  claim_id  customer_id  \\\n",
       "0  Female  1979-01-12    VT  789-916-8172  Platinum  54004764     21868593   \n",
       "1  Female  2070-01-13    ME  265-543-1264    Silver  33985796     75740424   \n",
       "\n",
       "  incident_cause claim_date claim_area police_report     claim_type  \\\n",
       "0   Driver error 2017-11-27       Auto            No  Material only   \n",
       "1          Crime 2018-10-03       Home       Unknown  Material only   \n",
       "\n",
       "   claim_amount  total_policy_claims fraudulent  \n",
       "0        2980.0                  1.0         No  \n",
       "1        2980.0                  3.0         No  "
      ]
     },
     "execution_count": 15,
     "metadata": {},
     "output_type": "execute_result"
    }
   ],
   "source": [
    "Cust_claim_df.head(2)"
   ]
  },
  {
   "cell_type": "code",
   "execution_count": 16,
   "id": "cc19bf9e-27b6-4601-8003-ed2172df196d",
   "metadata": {},
   "outputs": [
    {
     "data": {
      "text/plain": [
       "claim_type\n",
       "Material only          663\n",
       "Material and injury    241\n",
       "Injury only            196\n",
       "Name: count, dtype: int64"
      ]
     },
     "execution_count": 16,
     "metadata": {},
     "output_type": "execute_result"
    }
   ],
   "source": [
    "Cust_claim_df['claim_type'].value_counts()"
   ]
  },
  {
   "cell_type": "code",
   "execution_count": 17,
   "id": "628c7181-e77a-4262-9786-aea7473735c2",
   "metadata": {},
   "outputs": [],
   "source": [
    "Cust_claim_df['alert_flag'] = 0\n",
    "Cust_claim_df.loc[(Cust_claim_df['police_report'] == 'No') & ((Cust_claim_df['claim_type'] == 'Material and injury')|(Cust_claim_df['claim_type'] == 'Injury only')),['alert_flag']] = 1"
   ]
  },
  {
   "cell_type": "code",
   "execution_count": 18,
   "id": "a9fb41ae-6977-4c5f-81ee-13bbeb89094d",
   "metadata": {},
   "outputs": [
    {
     "data": {
      "text/html": [
       "<div>\n",
       "<style scoped>\n",
       "    .dataframe tbody tr th:only-of-type {\n",
       "        vertical-align: middle;\n",
       "    }\n",
       "\n",
       "    .dataframe tbody tr th {\n",
       "        vertical-align: top;\n",
       "    }\n",
       "\n",
       "    .dataframe thead th {\n",
       "        text-align: right;\n",
       "    }\n",
       "</style>\n",
       "<table border=\"1\" class=\"dataframe\">\n",
       "  <thead>\n",
       "    <tr style=\"text-align: right;\">\n",
       "      <th></th>\n",
       "      <th>gender</th>\n",
       "      <th>DateOfBirth</th>\n",
       "      <th>State</th>\n",
       "      <th>Contact</th>\n",
       "      <th>Segment</th>\n",
       "      <th>claim_id</th>\n",
       "      <th>customer_id</th>\n",
       "      <th>incident_cause</th>\n",
       "      <th>claim_date</th>\n",
       "      <th>claim_area</th>\n",
       "      <th>police_report</th>\n",
       "      <th>claim_type</th>\n",
       "      <th>claim_amount</th>\n",
       "      <th>total_policy_claims</th>\n",
       "      <th>fraudulent</th>\n",
       "      <th>alert_flag</th>\n",
       "    </tr>\n",
       "  </thead>\n",
       "  <tbody>\n",
       "    <tr>\n",
       "      <th>0</th>\n",
       "      <td>Female</td>\n",
       "      <td>1979-01-12</td>\n",
       "      <td>VT</td>\n",
       "      <td>789-916-8172</td>\n",
       "      <td>Platinum</td>\n",
       "      <td>54004764</td>\n",
       "      <td>21868593</td>\n",
       "      <td>Driver error</td>\n",
       "      <td>2017-11-27</td>\n",
       "      <td>Auto</td>\n",
       "      <td>No</td>\n",
       "      <td>Material only</td>\n",
       "      <td>2980.0</td>\n",
       "      <td>1.0</td>\n",
       "      <td>No</td>\n",
       "      <td>0</td>\n",
       "    </tr>\n",
       "    <tr>\n",
       "      <th>1</th>\n",
       "      <td>Female</td>\n",
       "      <td>2070-01-13</td>\n",
       "      <td>ME</td>\n",
       "      <td>265-543-1264</td>\n",
       "      <td>Silver</td>\n",
       "      <td>33985796</td>\n",
       "      <td>75740424</td>\n",
       "      <td>Crime</td>\n",
       "      <td>2018-10-03</td>\n",
       "      <td>Home</td>\n",
       "      <td>Unknown</td>\n",
       "      <td>Material only</td>\n",
       "      <td>2980.0</td>\n",
       "      <td>3.0</td>\n",
       "      <td>No</td>\n",
       "      <td>0</td>\n",
       "    </tr>\n",
       "  </tbody>\n",
       "</table>\n",
       "</div>"
      ],
      "text/plain": [
       "   gender DateOfBirth State       Contact   Segment  claim_id  customer_id  \\\n",
       "0  Female  1979-01-12    VT  789-916-8172  Platinum  54004764     21868593   \n",
       "1  Female  2070-01-13    ME  265-543-1264    Silver  33985796     75740424   \n",
       "\n",
       "  incident_cause claim_date claim_area police_report     claim_type  \\\n",
       "0   Driver error 2017-11-27       Auto            No  Material only   \n",
       "1          Crime 2018-10-03       Home       Unknown  Material only   \n",
       "\n",
       "   claim_amount  total_policy_claims fraudulent  alert_flag  \n",
       "0        2980.0                  1.0         No           0  \n",
       "1        2980.0                  3.0         No           0  "
      ]
     },
     "execution_count": 18,
     "metadata": {},
     "output_type": "execute_result"
    }
   ],
   "source": [
    "Cust_claim_df.head(2)"
   ]
  },
  {
   "cell_type": "markdown",
   "id": "44316c73-fa7c-4f60-ab4e-46c860761d4b",
   "metadata": {},
   "source": [
    "5. One customer can claim for insurance more than once and in each claim,multiple categories of claims can be involved. however customer_id should remain unique.\n",
    "   Retain the most recent observation and delete any duplicated records in the data based on the customer_id column."
   ]
  },
  {
   "cell_type": "code",
   "execution_count": 19,
   "id": "9c7e4a15-181e-4d5c-9b68-822d3f059c39",
   "metadata": {},
   "outputs": [
    {
     "data": {
      "text/plain": [
       "Index(['gender', 'DateOfBirth', 'State', 'Contact', 'Segment', 'claim_id',\n",
       "       'customer_id', 'incident_cause', 'claim_date', 'claim_area',\n",
       "       'police_report', 'claim_type', 'claim_amount', 'total_policy_claims',\n",
       "       'fraudulent', 'alert_flag'],\n",
       "      dtype='object')"
      ]
     },
     "execution_count": 19,
     "metadata": {},
     "output_type": "execute_result"
    }
   ],
   "source": [
    "Cust_claim_df.columns"
   ]
  },
  {
   "cell_type": "code",
   "execution_count": 20,
   "id": "21b47034-2e93-4c20-9801-b149ae11723c",
   "metadata": {},
   "outputs": [
    {
     "data": {
      "text/plain": [
       "(1100, 16)"
      ]
     },
     "execution_count": 20,
     "metadata": {},
     "output_type": "execute_result"
    }
   ],
   "source": [
    "Cust_claim_df.shape"
   ]
  },
  {
   "cell_type": "code",
   "execution_count": 21,
   "id": "dd57f082-632c-430a-a176-f57cd8ee001e",
   "metadata": {},
   "outputs": [],
   "source": [
    "Cust_claim_df.sort_values(by='claim_date',ascending= True, inplace= True, ignore_index= True)"
   ]
  },
  {
   "cell_type": "code",
   "execution_count": 22,
   "id": "48a95ac2-2d44-4fe7-9b93-841e9c362ae6",
   "metadata": {},
   "outputs": [],
   "source": [
    "Cust_claim_df.drop_duplicates(subset='customer_id', inplace= True, ignore_index= True)"
   ]
  },
  {
   "cell_type": "code",
   "execution_count": 23,
   "id": "d908ad2b-0f14-49b4-aafc-08735e3e2817",
   "metadata": {},
   "outputs": [
    {
     "data": {
      "text/plain": [
       "(1093, 16)"
      ]
     },
     "execution_count": 23,
     "metadata": {},
     "output_type": "execute_result"
    }
   ],
   "source": [
    "Cust_claim_df.shape"
   ]
  },
  {
   "cell_type": "code",
   "execution_count": 24,
   "id": "6d35a575-999c-4092-afcc-1f06a87fcd05",
   "metadata": {},
   "outputs": [
    {
     "data": {
      "text/plain": [
       "1093"
      ]
     },
     "execution_count": 24,
     "metadata": {},
     "output_type": "execute_result"
    }
   ],
   "source": [
    "Cust_claim_df['customer_id'].nunique()"
   ]
  },
  {
   "cell_type": "markdown",
   "id": "865df93a-e426-4eab-bfcc-08083faa10ee",
   "metadata": {},
   "source": [
    "6. Check for missing values with an appropriate values.(mean of continuous and mode of categorical)."
   ]
  },
  {
   "cell_type": "code",
   "execution_count": 25,
   "id": "94dc0adb-bfc3-48fe-a09c-b6f7dbc0430b",
   "metadata": {},
   "outputs": [
    {
     "name": "stdout",
     "output_type": "stream",
     "text": [
      "<class 'pandas.core.frame.DataFrame'>\n",
      "RangeIndex: 1093 entries, 0 to 1092\n",
      "Data columns (total 16 columns):\n",
      " #   Column               Non-Null Count  Dtype         \n",
      "---  ------               --------------  -----         \n",
      " 0   gender               1078 non-null   object        \n",
      " 1   DateOfBirth          1078 non-null   datetime64[ns]\n",
      " 2   State                1078 non-null   object        \n",
      " 3   Contact              1078 non-null   object        \n",
      " 4   Segment              1078 non-null   object        \n",
      " 5   claim_id             1093 non-null   int64         \n",
      " 6   customer_id          1093 non-null   int64         \n",
      " 7   incident_cause       1093 non-null   object        \n",
      " 8   claim_date           1093 non-null   datetime64[ns]\n",
      " 9   claim_area           1093 non-null   object        \n",
      " 10  police_report        1093 non-null   object        \n",
      " 11  claim_type           1093 non-null   object        \n",
      " 12  claim_amount         1028 non-null   float64       \n",
      " 13  total_policy_claims  1083 non-null   float64       \n",
      " 14  fraudulent           1093 non-null   object        \n",
      " 15  alert_flag           1093 non-null   int64         \n",
      "dtypes: datetime64[ns](2), float64(2), int64(3), object(9)\n",
      "memory usage: 136.8+ KB\n"
     ]
    }
   ],
   "source": [
    "Cust_claim_df.info()"
   ]
  },
  {
   "cell_type": "code",
   "execution_count": 26,
   "id": "f39d9ef6-dc97-409e-96fe-f4dfdda8fd77",
   "metadata": {},
   "outputs": [],
   "source": [
    "def miss_imp(x):\n",
    "    if x.dtypes == 'object':\n",
    "        return x.fillna(x.mode()[0])\n",
    "    if x.dtypes == 'datetime64[ns]':\n",
    "        return x.fillna(x.median())\n",
    "    else:\n",
    "        return x.fillna(x.mean())\n",
    "Cust_claim_df = Cust_claim_df.apply(miss_imp)"
   ]
  },
  {
   "cell_type": "code",
   "execution_count": 27,
   "id": "0d11f77f-0c00-43b1-9602-336ded6e4a19",
   "metadata": {},
   "outputs": [
    {
     "name": "stdout",
     "output_type": "stream",
     "text": [
      "<class 'pandas.core.frame.DataFrame'>\n",
      "RangeIndex: 1093 entries, 0 to 1092\n",
      "Data columns (total 16 columns):\n",
      " #   Column               Non-Null Count  Dtype         \n",
      "---  ------               --------------  -----         \n",
      " 0   gender               1093 non-null   object        \n",
      " 1   DateOfBirth          1093 non-null   datetime64[ns]\n",
      " 2   State                1093 non-null   object        \n",
      " 3   Contact              1093 non-null   object        \n",
      " 4   Segment              1093 non-null   object        \n",
      " 5   claim_id             1093 non-null   int64         \n",
      " 6   customer_id          1093 non-null   int64         \n",
      " 7   incident_cause       1093 non-null   object        \n",
      " 8   claim_date           1093 non-null   datetime64[ns]\n",
      " 9   claim_area           1093 non-null   object        \n",
      " 10  police_report        1093 non-null   object        \n",
      " 11  claim_type           1093 non-null   object        \n",
      " 12  claim_amount         1093 non-null   float64       \n",
      " 13  total_policy_claims  1093 non-null   float64       \n",
      " 14  fraudulent           1093 non-null   object        \n",
      " 15  alert_flag           1093 non-null   int64         \n",
      "dtypes: datetime64[ns](2), float64(2), int64(3), object(9)\n",
      "memory usage: 136.8+ KB\n"
     ]
    }
   ],
   "source": [
    "Cust_claim_df.info()"
   ]
  },
  {
   "cell_type": "markdown",
   "id": "1b7da3e1-f586-4585-9610-d9890b774b07",
   "metadata": {},
   "source": [
    "7. Calculate the age of customers in years. Based on the age, categorize the customers according to the below criteria\n",
    "   (i) Children (< 18) (ii) Youth  (18 - 30) (iii) Adult (30 - 60) (iv) Senior (>60)."
   ]
  },
  {
   "cell_type": "code",
   "execution_count": 28,
   "id": "82e0498b-f62f-4d72-86d3-656856139202",
   "metadata": {},
   "outputs": [],
   "source": [
    "Cust_claim_df.loc[Cust_claim_df['DateOfBirth'].dt.year>2020,'DateOfBirth'] = (Cust_claim_df['DateOfBirth'][Cust_claim_df['DateOfBirth'].dt.year>2020] - pd.DateOffset(years=100))"
   ]
  },
  {
   "cell_type": "code",
   "execution_count": 29,
   "id": "c29cac0f-4b50-4a83-9edd-20a84ecf5b2b",
   "metadata": {},
   "outputs": [],
   "source": [
    "Cust_claim_df['Age'] = ((Cust_claim_df['claim_date'].max() - Cust_claim_df['DateOfBirth']).dt.days)//365.25"
   ]
  },
  {
   "cell_type": "code",
   "execution_count": 30,
   "id": "463bdbde-4c3a-4099-83e6-1512ae930694",
   "metadata": {},
   "outputs": [],
   "source": [
    "Cust_claim_df['Age_type'] = pd.cut(Cust_claim_df['Age'], bins=[0,17,30,60,100], labels=['Child','Youth','Adult','Senior'])"
   ]
  },
  {
   "cell_type": "markdown",
   "id": "00b8288f-47a4-4f24-a5e5-fd0acd1d1062",
   "metadata": {},
   "source": [
    "8. What is the average amount claimed by the customers from various segments?"
   ]
  },
  {
   "cell_type": "code",
   "execution_count": 31,
   "id": "6348805b-2097-4698-a82b-d2000b056218",
   "metadata": {},
   "outputs": [
    {
     "data": {
      "text/plain": [
       "Index(['gender', 'DateOfBirth', 'State', 'Contact', 'Segment', 'claim_id',\n",
       "       'customer_id', 'incident_cause', 'claim_date', 'claim_area',\n",
       "       'police_report', 'claim_type', 'claim_amount', 'total_policy_claims',\n",
       "       'fraudulent', 'alert_flag', 'Age', 'Age_type'],\n",
       "      dtype='object')"
      ]
     },
     "execution_count": 31,
     "metadata": {},
     "output_type": "execute_result"
    }
   ],
   "source": [
    "Cust_claim_df.columns"
   ]
  },
  {
   "cell_type": "code",
   "execution_count": 32,
   "id": "da91dd40-b6ba-489d-a240-b688849c4a5c",
   "metadata": {},
   "outputs": [
    {
     "data": {
      "text/plain": [
       "Age_type\n",
       "Adult     739\n",
       "Youth     354\n",
       "Child       0\n",
       "Senior      0\n",
       "Name: count, dtype: int64"
      ]
     },
     "execution_count": 32,
     "metadata": {},
     "output_type": "execute_result"
    }
   ],
   "source": [
    "Cust_claim_df['Age_type'].value_counts()"
   ]
  },
  {
   "cell_type": "code",
   "execution_count": 33,
   "id": "fde94500-377c-48eb-bb1d-b761cec0fe07",
   "metadata": {},
   "outputs": [],
   "source": [
    "a = Cust_claim_df.pivot_table(index='Segment', values='claim_amount', aggfunc=np.mean)"
   ]
  },
  {
   "cell_type": "code",
   "execution_count": 34,
   "id": "f2f3b567-72a8-4e7a-8dff-51441d6cc564",
   "metadata": {},
   "outputs": [
    {
     "data": {
      "text/html": [
       "<div>\n",
       "<style scoped>\n",
       "    .dataframe tbody tr th:only-of-type {\n",
       "        vertical-align: middle;\n",
       "    }\n",
       "\n",
       "    .dataframe tbody tr th {\n",
       "        vertical-align: top;\n",
       "    }\n",
       "\n",
       "    .dataframe thead th {\n",
       "        text-align: right;\n",
       "    }\n",
       "</style>\n",
       "<table border=\"1\" class=\"dataframe\">\n",
       "  <thead>\n",
       "    <tr style=\"text-align: right;\">\n",
       "      <th></th>\n",
       "      <th>Avg_claim_amt</th>\n",
       "    </tr>\n",
       "    <tr>\n",
       "      <th>Segment</th>\n",
       "      <th></th>\n",
       "    </tr>\n",
       "  </thead>\n",
       "  <tbody>\n",
       "    <tr>\n",
       "      <th>Gold</th>\n",
       "      <td>12675.249640</td>\n",
       "    </tr>\n",
       "    <tr>\n",
       "      <th>Platinum</th>\n",
       "      <td>12368.224114</td>\n",
       "    </tr>\n",
       "    <tr>\n",
       "      <th>Silver</th>\n",
       "      <td>12266.636772</td>\n",
       "    </tr>\n",
       "  </tbody>\n",
       "</table>\n",
       "</div>"
      ],
      "text/plain": [
       "          Avg_claim_amt\n",
       "Segment                \n",
       "Gold       12675.249640\n",
       "Platinum   12368.224114\n",
       "Silver     12266.636772"
      ]
     },
     "execution_count": 34,
     "metadata": {},
     "output_type": "execute_result"
    }
   ],
   "source": [
    "a.rename(columns={'claim_amount':'Avg_claim_amt'})"
   ]
  },
  {
   "cell_type": "markdown",
   "id": "fdbebce1-dfe0-406a-b6b6-e8ad9ebbfb03",
   "metadata": {},
   "source": [
    "9. What is the total claim amount based on incident cause for all the claims that have been done atleast 20 days prior to 1st Oct,2018?"
   ]
  },
  {
   "cell_type": "code",
   "execution_count": 35,
   "id": "0dedff03-a496-492e-9dda-5ef32a9c1eac",
   "metadata": {},
   "outputs": [],
   "source": [
    "a = dt.datetime(day = 1, month = 10, year = 2018) - dt.timedelta(days=20)"
   ]
  },
  {
   "cell_type": "code",
   "execution_count": 36,
   "id": "3b581ec3-5238-4c85-8c71-0733637d24c2",
   "metadata": {},
   "outputs": [
    {
     "data": {
      "text/plain": [
       "datetime.datetime(2018, 9, 11, 0, 0)"
      ]
     },
     "execution_count": 36,
     "metadata": {},
     "output_type": "execute_result"
    }
   ],
   "source": [
    "a"
   ]
  },
  {
   "cell_type": "code",
   "execution_count": 37,
   "id": "94028b29-0a0b-463b-aedf-b8fb589f9ca5",
   "metadata": {},
   "outputs": [
    {
     "data": {
      "text/html": [
       "<div>\n",
       "<style scoped>\n",
       "    .dataframe tbody tr th:only-of-type {\n",
       "        vertical-align: middle;\n",
       "    }\n",
       "\n",
       "    .dataframe tbody tr th {\n",
       "        vertical-align: top;\n",
       "    }\n",
       "\n",
       "    .dataframe thead th {\n",
       "        text-align: right;\n",
       "    }\n",
       "</style>\n",
       "<table border=\"1\" class=\"dataframe\">\n",
       "  <thead>\n",
       "    <tr style=\"text-align: right;\">\n",
       "      <th></th>\n",
       "      <th>claim_amount</th>\n",
       "    </tr>\n",
       "    <tr>\n",
       "      <th>incident_cause</th>\n",
       "      <th></th>\n",
       "    </tr>\n",
       "  </thead>\n",
       "  <tbody>\n",
       "    <tr>\n",
       "      <th>Crime</th>\n",
       "      <td>729484.47</td>\n",
       "    </tr>\n",
       "    <tr>\n",
       "      <th>Driver error</th>\n",
       "      <td>3292983.92</td>\n",
       "    </tr>\n",
       "    <tr>\n",
       "      <th>Natural causes</th>\n",
       "      <td>1314781.94</td>\n",
       "    </tr>\n",
       "    <tr>\n",
       "      <th>Other causes</th>\n",
       "      <td>3779914.38</td>\n",
       "    </tr>\n",
       "    <tr>\n",
       "      <th>Other driver error</th>\n",
       "      <td>3384075.92</td>\n",
       "    </tr>\n",
       "  </tbody>\n",
       "</table>\n",
       "</div>"
      ],
      "text/plain": [
       "                    claim_amount\n",
       "incident_cause                  \n",
       "Crime                  729484.47\n",
       "Driver error          3292983.92\n",
       "Natural causes        1314781.94\n",
       "Other causes          3779914.38\n",
       "Other driver error    3384075.92"
      ]
     },
     "execution_count": 37,
     "metadata": {},
     "output_type": "execute_result"
    }
   ],
   "source": [
    "Cust_claim_df.loc[Cust_claim_df['claim_date']<a,:].groupby(by='incident_cause')[['claim_amount']].sum().round(2)"
   ]
  },
  {
   "cell_type": "markdown",
   "id": "10982578-3a90-45d8-ad5f-2d33e0e56b79",
   "metadata": {},
   "source": [
    "10. How many adults from TX,DE & AK claimed insurance for driver realeted issues and causes?"
   ]
  },
  {
   "cell_type": "code",
   "execution_count": 38,
   "id": "02d00ede-4ac4-4503-897c-6a3a235be70c",
   "metadata": {},
   "outputs": [
    {
     "data": {
      "text/html": [
       "<div>\n",
       "<style scoped>\n",
       "    .dataframe tbody tr th:only-of-type {\n",
       "        vertical-align: middle;\n",
       "    }\n",
       "\n",
       "    .dataframe tbody tr th {\n",
       "        vertical-align: top;\n",
       "    }\n",
       "\n",
       "    .dataframe thead th {\n",
       "        text-align: right;\n",
       "    }\n",
       "</style>\n",
       "<table border=\"1\" class=\"dataframe\">\n",
       "  <thead>\n",
       "    <tr style=\"text-align: right;\">\n",
       "      <th></th>\n",
       "      <th>gender</th>\n",
       "      <th>DateOfBirth</th>\n",
       "      <th>State</th>\n",
       "      <th>Contact</th>\n",
       "      <th>Segment</th>\n",
       "      <th>claim_id</th>\n",
       "      <th>customer_id</th>\n",
       "      <th>incident_cause</th>\n",
       "      <th>claim_date</th>\n",
       "      <th>claim_area</th>\n",
       "      <th>police_report</th>\n",
       "      <th>claim_type</th>\n",
       "      <th>claim_amount</th>\n",
       "      <th>total_policy_claims</th>\n",
       "      <th>fraudulent</th>\n",
       "      <th>alert_flag</th>\n",
       "      <th>Age</th>\n",
       "      <th>Age_type</th>\n",
       "    </tr>\n",
       "  </thead>\n",
       "  <tbody>\n",
       "    <tr>\n",
       "      <th>0</th>\n",
       "      <td>Male</td>\n",
       "      <td>1975-11-23</td>\n",
       "      <td>NC</td>\n",
       "      <td>651-379-2486</td>\n",
       "      <td>Silver</td>\n",
       "      <td>9476314</td>\n",
       "      <td>65176092</td>\n",
       "      <td>Other causes</td>\n",
       "      <td>2017-01-01</td>\n",
       "      <td>Auto</td>\n",
       "      <td>No</td>\n",
       "      <td>Material and injury</td>\n",
       "      <td>37290.0</td>\n",
       "      <td>3.0</td>\n",
       "      <td>No</td>\n",
       "      <td>1</td>\n",
       "      <td>42.0</td>\n",
       "      <td>Adult</td>\n",
       "    </tr>\n",
       "    <tr>\n",
       "      <th>1</th>\n",
       "      <td>Female</td>\n",
       "      <td>1974-11-04</td>\n",
       "      <td>KS</td>\n",
       "      <td>724-781-3692</td>\n",
       "      <td>Platinum</td>\n",
       "      <td>36457152</td>\n",
       "      <td>25634799</td>\n",
       "      <td>Driver error</td>\n",
       "      <td>2017-01-01</td>\n",
       "      <td>Auto</td>\n",
       "      <td>No</td>\n",
       "      <td>Material only</td>\n",
       "      <td>2900.0</td>\n",
       "      <td>2.0</td>\n",
       "      <td>No</td>\n",
       "      <td>0</td>\n",
       "      <td>43.0</td>\n",
       "      <td>Adult</td>\n",
       "    </tr>\n",
       "  </tbody>\n",
       "</table>\n",
       "</div>"
      ],
      "text/plain": [
       "   gender DateOfBirth State       Contact   Segment  claim_id  customer_id  \\\n",
       "0    Male  1975-11-23    NC  651-379-2486    Silver   9476314     65176092   \n",
       "1  Female  1974-11-04    KS  724-781-3692  Platinum  36457152     25634799   \n",
       "\n",
       "  incident_cause claim_date claim_area police_report           claim_type  \\\n",
       "0   Other causes 2017-01-01       Auto            No  Material and injury   \n",
       "1   Driver error 2017-01-01       Auto            No        Material only   \n",
       "\n",
       "   claim_amount  total_policy_claims fraudulent  alert_flag   Age Age_type  \n",
       "0       37290.0                  3.0         No           1  42.0    Adult  \n",
       "1        2900.0                  2.0         No           0  43.0    Adult  "
      ]
     },
     "execution_count": 38,
     "metadata": {},
     "output_type": "execute_result"
    }
   ],
   "source": [
    "Cust_claim_df.head(2)"
   ]
  },
  {
   "cell_type": "code",
   "execution_count": 39,
   "id": "25671651-07fc-4951-90ec-90d27c81f2a6",
   "metadata": {},
   "outputs": [
    {
     "data": {
      "text/plain": [
       "incident_cause\n",
       "Other causes          289\n",
       "Driver error          257\n",
       "Other driver error    249\n",
       "Natural causes        188\n",
       "Crime                 110\n",
       "Name: count, dtype: int64"
      ]
     },
     "execution_count": 39,
     "metadata": {},
     "output_type": "execute_result"
    }
   ],
   "source": [
    "Cust_claim_df['incident_cause'].value_counts()"
   ]
  },
  {
   "cell_type": "code",
   "execution_count": 40,
   "id": "6acf8156-d7ce-46ae-a2b1-55d2c9495194",
   "metadata": {},
   "outputs": [
    {
     "data": {
      "text/plain": [
       "24"
      ]
     },
     "execution_count": 40,
     "metadata": {},
     "output_type": "execute_result"
    }
   ],
   "source": [
    "Cust_claim_df.loc[(Cust_claim_df['Age_type'] == 'Adult') & (Cust_claim_df['State'].isin(['TX','DE','AK'])) & ((Cust_claim_df['incident_cause']=='Driver error')|(Cust_claim_df['incident_cause'] == 'Other driver error')),:].shape[0]"
   ]
  },
  {
   "cell_type": "markdown",
   "id": "870c1ba7-14ba-4b95-bdb1-0cc5ceb71f41",
   "metadata": {},
   "source": [
    "11. Draw a pie chart between the aggregated value of claim amount based on gender and segment?"
   ]
  },
  {
   "cell_type": "code",
   "execution_count": 41,
   "id": "7f7ba24e-de6e-415a-bbc4-b035695dc7ac",
   "metadata": {},
   "outputs": [
    {
     "data": {
      "text/plain": [
       "Index(['gender', 'DateOfBirth', 'State', 'Contact', 'Segment', 'claim_id',\n",
       "       'customer_id', 'incident_cause', 'claim_date', 'claim_area',\n",
       "       'police_report', 'claim_type', 'claim_amount', 'total_policy_claims',\n",
       "       'fraudulent', 'alert_flag', 'Age', 'Age_type'],\n",
       "      dtype='object')"
      ]
     },
     "execution_count": 41,
     "metadata": {},
     "output_type": "execute_result"
    }
   ],
   "source": [
    "Cust_claim_df.columns"
   ]
  },
  {
   "cell_type": "code",
   "execution_count": 42,
   "id": "bb6b949e-fb5e-489a-b913-91f77abe0fec",
   "metadata": {},
   "outputs": [],
   "source": [
    "b = Cust_claim_df.groupby(by=['gender','Segment'])[['claim_amount']].sum().round(2)"
   ]
  },
  {
   "cell_type": "code",
   "execution_count": 43,
   "id": "dfa6c0c5-da5f-45f9-b672-0b5471a1660a",
   "metadata": {},
   "outputs": [
    {
     "data": {
      "text/html": [
       "<div>\n",
       "<style scoped>\n",
       "    .dataframe tbody tr th:only-of-type {\n",
       "        vertical-align: middle;\n",
       "    }\n",
       "\n",
       "    .dataframe tbody tr th {\n",
       "        vertical-align: top;\n",
       "    }\n",
       "\n",
       "    .dataframe thead th {\n",
       "        text-align: right;\n",
       "    }\n",
       "</style>\n",
       "<table border=\"1\" class=\"dataframe\">\n",
       "  <thead>\n",
       "    <tr style=\"text-align: right;\">\n",
       "      <th></th>\n",
       "      <th></th>\n",
       "      <th>claim_amount</th>\n",
       "    </tr>\n",
       "    <tr>\n",
       "      <th>gender</th>\n",
       "      <th>Segment</th>\n",
       "      <th></th>\n",
       "    </tr>\n",
       "  </thead>\n",
       "  <tbody>\n",
       "    <tr>\n",
       "      <th rowspan=\"3\" valign=\"top\">Female</th>\n",
       "      <th>Gold</th>\n",
       "      <td>2109529.44</td>\n",
       "    </tr>\n",
       "    <tr>\n",
       "      <th>Platinum</th>\n",
       "      <td>2369321.46</td>\n",
       "    </tr>\n",
       "    <tr>\n",
       "      <th>Silver</th>\n",
       "      <td>1897980.42</td>\n",
       "    </tr>\n",
       "    <tr>\n",
       "      <th rowspan=\"3\" valign=\"top\">Male</th>\n",
       "      <th>Gold</th>\n",
       "      <td>2783116.92</td>\n",
       "    </tr>\n",
       "    <tr>\n",
       "      <th>Platinum</th>\n",
       "      <td>2095607.45</td>\n",
       "    </tr>\n",
       "    <tr>\n",
       "      <th>Silver</th>\n",
       "      <td>2346275.91</td>\n",
       "    </tr>\n",
       "  </tbody>\n",
       "</table>\n",
       "</div>"
      ],
      "text/plain": [
       "                 claim_amount\n",
       "gender Segment               \n",
       "Female Gold        2109529.44\n",
       "       Platinum    2369321.46\n",
       "       Silver      1897980.42\n",
       "Male   Gold        2783116.92\n",
       "       Platinum    2095607.45\n",
       "       Silver      2346275.91"
      ]
     },
     "execution_count": 43,
     "metadata": {},
     "output_type": "execute_result"
    }
   ],
   "source": [
    "\n",
    "b"
   ]
  },
  {
   "cell_type": "code",
   "execution_count": 44,
   "id": "1eec8891-ad5d-4ea7-99c8-4545179e9287",
   "metadata": {},
   "outputs": [
    {
     "data": {
      "image/png": "[encoded data removed]",
      "text/plain": [
       "<Figure size 640x480 with 1 Axes>"
      ]
     },
     "metadata": {},
     "output_type": "display_data"
    }
   ],
   "source": [
    "b.plot(kind = 'pie', y = 'claim_amount',autopct = '%0.2f%%')\n",
    "plt.title('Gender and Segment wise distribution of claim amount in percentage')\n",
    "plt.show()"
   ]
  },
  {
   "cell_type": "markdown",
   "id": "d734c831-80cf-4098-980e-05c7ec6066b2",
   "metadata": {},
   "source": [
    "12. Among male and female , which gender had claimed the most for any type of driver related issues.(i.e. the matric can be compared using a bar chart)"
   ]
  },
  {
   "cell_type": "code",
   "execution_count": 45,
   "id": "471ef946-e642-43d3-af96-eda96b0bf65f",
   "metadata": {},
   "outputs": [
    {
     "data": {
      "text/plain": [
       "Index(['gender', 'DateOfBirth', 'State', 'Contact', 'Segment', 'claim_id',\n",
       "       'customer_id', 'incident_cause', 'claim_date', 'claim_area',\n",
       "       'police_report', 'claim_type', 'claim_amount', 'total_policy_claims',\n",
       "       'fraudulent', 'alert_flag', 'Age', 'Age_type'],\n",
       "      dtype='object')"
      ]
     },
     "execution_count": 45,
     "metadata": {},
     "output_type": "execute_result"
    }
   ],
   "source": [
    "Cust_claim_df.columns"
   ]
  },
  {
   "cell_type": "code",
   "execution_count": 46,
   "id": "8613f306-42cc-4111-af93-1988644075e9",
   "metadata": {},
   "outputs": [
    {
     "data": {
      "text/plain": [
       "incident_cause\n",
       "Other causes          289\n",
       "Driver error          257\n",
       "Other driver error    249\n",
       "Natural causes        188\n",
       "Crime                 110\n",
       "Name: count, dtype: int64"
      ]
     },
     "execution_count": 46,
     "metadata": {},
     "output_type": "execute_result"
    }
   ],
   "source": [
    "Cust_claim_df['incident_cause'].value_counts()"
   ]
  },
  {
   "cell_type": "code",
   "execution_count": 47,
   "id": "69a659fe-1eab-44eb-af03-6c5cee6dfd4a",
   "metadata": {},
   "outputs": [],
   "source": [
    "Cust_claim_df['driver_flag'] = 'Non-driver'\n",
    "Cust_claim_df.loc[((Cust_claim_df['incident_cause'] == 'Driver error')|(Cust_claim_df['incident_cause'] == 'Other driver error')),['driver_flag']] = 'driver related'"
   ]
  },
  {
   "cell_type": "code",
   "execution_count": 48,
   "id": "e2d1174c-82cd-414d-b40c-2a75147426d7",
   "metadata": {},
   "outputs": [
    {
     "data": {
      "text/html": [
       "<div>\n",
       "<style scoped>\n",
       "    .dataframe tbody tr th:only-of-type {\n",
       "        vertical-align: middle;\n",
       "    }\n",
       "\n",
       "    .dataframe tbody tr th {\n",
       "        vertical-align: top;\n",
       "    }\n",
       "\n",
       "    .dataframe thead th {\n",
       "        text-align: right;\n",
       "    }\n",
       "</style>\n",
       "<table border=\"1\" class=\"dataframe\">\n",
       "  <thead>\n",
       "    <tr style=\"text-align: right;\">\n",
       "      <th></th>\n",
       "      <th>gender</th>\n",
       "      <th>DateOfBirth</th>\n",
       "      <th>State</th>\n",
       "      <th>Contact</th>\n",
       "      <th>Segment</th>\n",
       "      <th>claim_id</th>\n",
       "      <th>customer_id</th>\n",
       "      <th>incident_cause</th>\n",
       "      <th>claim_date</th>\n",
       "      <th>claim_area</th>\n",
       "      <th>police_report</th>\n",
       "      <th>claim_type</th>\n",
       "      <th>claim_amount</th>\n",
       "      <th>total_policy_claims</th>\n",
       "      <th>fraudulent</th>\n",
       "      <th>alert_flag</th>\n",
       "      <th>Age</th>\n",
       "      <th>Age_type</th>\n",
       "      <th>driver_flag</th>\n",
       "    </tr>\n",
       "  </thead>\n",
       "  <tbody>\n",
       "    <tr>\n",
       "      <th>0</th>\n",
       "      <td>Male</td>\n",
       "      <td>1975-11-23</td>\n",
       "      <td>NC</td>\n",
       "      <td>651-379-2486</td>\n",
       "      <td>Silver</td>\n",
       "      <td>9476314</td>\n",
       "      <td>65176092</td>\n",
       "      <td>Other causes</td>\n",
       "      <td>2017-01-01</td>\n",
       "      <td>Auto</td>\n",
       "      <td>No</td>\n",
       "      <td>Material and injury</td>\n",
       "      <td>37290.0</td>\n",
       "      <td>3.0</td>\n",
       "      <td>No</td>\n",
       "      <td>1</td>\n",
       "      <td>42.0</td>\n",
       "      <td>Adult</td>\n",
       "      <td>Non-driver</td>\n",
       "    </tr>\n",
       "    <tr>\n",
       "      <th>1</th>\n",
       "      <td>Female</td>\n",
       "      <td>1974-11-04</td>\n",
       "      <td>KS</td>\n",
       "      <td>724-781-3692</td>\n",
       "      <td>Platinum</td>\n",
       "      <td>36457152</td>\n",
       "      <td>25634799</td>\n",
       "      <td>Driver error</td>\n",
       "      <td>2017-01-01</td>\n",
       "      <td>Auto</td>\n",
       "      <td>No</td>\n",
       "      <td>Material only</td>\n",
       "      <td>2900.0</td>\n",
       "      <td>2.0</td>\n",
       "      <td>No</td>\n",
       "      <td>0</td>\n",
       "      <td>43.0</td>\n",
       "      <td>Adult</td>\n",
       "      <td>driver related</td>\n",
       "    </tr>\n",
       "  </tbody>\n",
       "</table>\n",
       "</div>"
      ],
      "text/plain": [
       "   gender DateOfBirth State       Contact   Segment  claim_id  customer_id  \\\n",
       "0    Male  1975-11-23    NC  651-379-2486    Silver   9476314     65176092   \n",
       "1  Female  1974-11-04    KS  724-781-3692  Platinum  36457152     25634799   \n",
       "\n",
       "  incident_cause claim_date claim_area police_report           claim_type  \\\n",
       "0   Other causes 2017-01-01       Auto            No  Material and injury   \n",
       "1   Driver error 2017-01-01       Auto            No        Material only   \n",
       "\n",
       "   claim_amount  total_policy_claims fraudulent  alert_flag   Age Age_type  \\\n",
       "0       37290.0                  3.0         No           1  42.0    Adult   \n",
       "1        2900.0                  2.0         No           0  43.0    Adult   \n",
       "\n",
       "      driver_flag  \n",
       "0      Non-driver  \n",
       "1  driver related  "
      ]
     },
     "execution_count": 48,
     "metadata": {},
     "output_type": "execute_result"
    }
   ],
   "source": [
    "Cust_claim_df.head(2)"
   ]
  },
  {
   "cell_type": "code",
   "execution_count": 49,
   "id": "772e4459-eeeb-4626-b01e-aec3daac0554",
   "metadata": {},
   "outputs": [],
   "source": [
    "c=Cust_claim_df.pivot_table(index='gender', columns='driver_flag' , aggfunc= {'driver_flag':'count'})"
   ]
  },
  {
   "cell_type": "code",
   "execution_count": 50,
   "id": "21687eda-be7e-4959-ad15-4ac75b9de3a3",
   "metadata": {},
   "outputs": [
    {
     "data": {
      "text/html": [
       "<div>\n",
       "<style scoped>\n",
       "    .dataframe tbody tr th:only-of-type {\n",
       "        vertical-align: middle;\n",
       "    }\n",
       "\n",
       "    .dataframe tbody tr th {\n",
       "        vertical-align: top;\n",
       "    }\n",
       "\n",
       "    .dataframe thead tr th {\n",
       "        text-align: left;\n",
       "    }\n",
       "\n",
       "    .dataframe thead tr:last-of-type th {\n",
       "        text-align: right;\n",
       "    }\n",
       "</style>\n",
       "<table border=\"1\" class=\"dataframe\">\n",
       "  <thead>\n",
       "    <tr>\n",
       "      <th></th>\n",
       "      <th colspan=\"2\" halign=\"left\">driver_flag</th>\n",
       "    </tr>\n",
       "    <tr>\n",
       "      <th>driver_flag</th>\n",
       "      <th>Non-driver</th>\n",
       "      <th>driver related</th>\n",
       "    </tr>\n",
       "    <tr>\n",
       "      <th>gender</th>\n",
       "      <th></th>\n",
       "      <th></th>\n",
       "    </tr>\n",
       "  </thead>\n",
       "  <tbody>\n",
       "    <tr>\n",
       "      <th>Female</th>\n",
       "      <td>306</td>\n",
       "      <td>221</td>\n",
       "    </tr>\n",
       "    <tr>\n",
       "      <th>Male</th>\n",
       "      <td>281</td>\n",
       "      <td>285</td>\n",
       "    </tr>\n",
       "  </tbody>\n",
       "</table>\n",
       "</div>"
      ],
      "text/plain": [
       "            driver_flag               \n",
       "driver_flag  Non-driver driver related\n",
       "gender                                \n",
       "Female              306            221\n",
       "Male                281            285"
      ]
     },
     "execution_count": 50,
     "metadata": {},
     "output_type": "execute_result"
    }
   ],
   "source": [
    "c"
   ]
  },
  {
   "cell_type": "code",
   "execution_count": 51,
   "id": "ad6f06a9-3e66-4ed5-af0b-205b697a6a10",
   "metadata": {},
   "outputs": [
    {
     "data": {
      "image/png": "[encoded data removed]",
      "text/plain": [
       "<Figure size 800x600 with 1 Axes>"
      ]
     },
     "metadata": {},
     "output_type": "display_data"
    }
   ],
   "source": [
    "d = c['driver_flag']\n",
    "e = d.plot(kind = 'bar', figsize = (8,6))\n",
    "for i in e.containers:\n",
    "    e.bar_label(i)\n",
    "plt.show()"
   ]
  },
  {
   "cell_type": "markdown",
   "id": "997b56f0-a66f-4a9d-8384-925734f631ff",
   "metadata": {},
   "source": [
    "13. Which age group had the max. fraudulent policy claims?"
   ]
  },
  {
   "cell_type": "code",
   "execution_count": 52,
   "id": "b44fb20d-fb26-4bb1-935d-7738b5d78f6c",
   "metadata": {},
   "outputs": [
    {
     "data": {
      "text/plain": [
       "Index(['gender', 'DateOfBirth', 'State', 'Contact', 'Segment', 'claim_id',\n",
       "       'customer_id', 'incident_cause', 'claim_date', 'claim_area',\n",
       "       'police_report', 'claim_type', 'claim_amount', 'total_policy_claims',\n",
       "       'fraudulent', 'alert_flag', 'Age', 'Age_type', 'driver_flag'],\n",
       "      dtype='object')"
      ]
     },
     "execution_count": 52,
     "metadata": {},
     "output_type": "execute_result"
    }
   ],
   "source": [
    "Cust_claim_df.columns"
   ]
  },
  {
   "cell_type": "code",
   "execution_count": 53,
   "id": "faa787ff-47fb-4b62-b025-43420b58c6b3",
   "metadata": {},
   "outputs": [],
   "source": [
    "d= Cust_claim_df.pivot_table(index='Age_type' , columns= 'fraudulent' , values= 'total_policy_claims', aggfunc=np.sum).round(0)"
   ]
  },
  {
   "cell_type": "code",
   "execution_count": 54,
   "id": "54cfa2c7-2862-4679-86b8-f81a4cc37a1f",
   "metadata": {},
   "outputs": [
    {
     "data": {
      "text/html": [
       "<div>\n",
       "<style scoped>\n",
       "    .dataframe tbody tr th:only-of-type {\n",
       "        vertical-align: middle;\n",
       "    }\n",
       "\n",
       "    .dataframe tbody tr th {\n",
       "        vertical-align: top;\n",
       "    }\n",
       "\n",
       "    .dataframe thead th {\n",
       "        text-align: right;\n",
       "    }\n",
       "</style>\n",
       "<table border=\"1\" class=\"dataframe\">\n",
       "  <thead>\n",
       "    <tr style=\"text-align: right;\">\n",
       "      <th>fraudulent</th>\n",
       "      <th>No</th>\n",
       "      <th>Yes</th>\n",
       "    </tr>\n",
       "    <tr>\n",
       "      <th>Age_type</th>\n",
       "      <th></th>\n",
       "      <th></th>\n",
       "    </tr>\n",
       "  </thead>\n",
       "  <tbody>\n",
       "    <tr>\n",
       "      <th>Child</th>\n",
       "      <td>0.0</td>\n",
       "      <td>0.0</td>\n",
       "    </tr>\n",
       "    <tr>\n",
       "      <th>Youth</th>\n",
       "      <td>419.0</td>\n",
       "      <td>153.0</td>\n",
       "    </tr>\n",
       "    <tr>\n",
       "      <th>Adult</th>\n",
       "      <td>871.0</td>\n",
       "      <td>292.0</td>\n",
       "    </tr>\n",
       "    <tr>\n",
       "      <th>Senior</th>\n",
       "      <td>0.0</td>\n",
       "      <td>0.0</td>\n",
       "    </tr>\n",
       "  </tbody>\n",
       "</table>\n",
       "</div>"
      ],
      "text/plain": [
       "fraudulent     No    Yes\n",
       "Age_type                \n",
       "Child         0.0    0.0\n",
       "Youth       419.0  153.0\n",
       "Adult       871.0  292.0\n",
       "Senior        0.0    0.0"
      ]
     },
     "execution_count": 54,
     "metadata": {},
     "output_type": "execute_result"
    }
   ],
   "source": [
    "d"
   ]
  },
  {
   "cell_type": "code",
   "execution_count": 55,
   "id": "3fe48a0e-695e-4f69-8061-6bcae660ae61",
   "metadata": {},
   "outputs": [
    {
     "data": {
      "image/png": "[encoded data removed]",
      "text/plain": [
       "<Figure size 500x400 with 1 Axes>"
      ]
     },
     "metadata": {},
     "output_type": "display_data"
    }
   ],
   "source": [
    "d.plot(kind = 'barh' , figsize = (5,4))\n",
    "plt.show()"
   ]
  },
  {
   "cell_type": "markdown",
   "id": "2f5bd06e-0589-4614-84a5-80bc93333db1",
   "metadata": {},
   "source": [
    "14. Visualize the monthly trend of the total amount that has been claimed by the customers.\n",
    "    Ensure that on the \"Month\" axis, the month is in chronological order not alphabetical order."
   ]
  },
  {
   "cell_type": "code",
   "execution_count": 56,
   "id": "1210b7de-ff6f-4dec-a0d6-6ea68fc96137",
   "metadata": {},
   "outputs": [
    {
     "data": {
      "text/plain": [
       "Index(['gender', 'DateOfBirth', 'State', 'Contact', 'Segment', 'claim_id',\n",
       "       'customer_id', 'incident_cause', 'claim_date', 'claim_area',\n",
       "       'police_report', 'claim_type', 'claim_amount', 'total_policy_claims',\n",
       "       'fraudulent', 'alert_flag', 'Age', 'Age_type', 'driver_flag'],\n",
       "      dtype='object')"
      ]
     },
     "execution_count": 56,
     "metadata": {},
     "output_type": "execute_result"
    }
   ],
   "source": [
    "Cust_claim_df.columns"
   ]
  },
  {
   "cell_type": "code",
   "execution_count": 57,
   "id": "0e046a6f-6cde-44b1-8ee6-2161ac7c10f5",
   "metadata": {},
   "outputs": [],
   "source": [
    "Cust_claim_df['Claim_year_month'] = pd.to_datetime(Cust_claim_df['claim_date']).dt.strftime(\"%b'%y\")"
   ]
  },
  {
   "cell_type": "code",
   "execution_count": 58,
   "id": "b7ba6ad8-881f-4d77-aba3-58550568d588",
   "metadata": {},
   "outputs": [
    {
     "data": {
      "text/html": [
       "<div>\n",
       "<style scoped>\n",
       "    .dataframe tbody tr th:only-of-type {\n",
       "        vertical-align: middle;\n",
       "    }\n",
       "\n",
       "    .dataframe tbody tr th {\n",
       "        vertical-align: top;\n",
       "    }\n",
       "\n",
       "    .dataframe thead th {\n",
       "        text-align: right;\n",
       "    }\n",
       "</style>\n",
       "<table border=\"1\" class=\"dataframe\">\n",
       "  <thead>\n",
       "    <tr style=\"text-align: right;\">\n",
       "      <th></th>\n",
       "      <th>gender</th>\n",
       "      <th>DateOfBirth</th>\n",
       "      <th>State</th>\n",
       "      <th>Contact</th>\n",
       "      <th>Segment</th>\n",
       "      <th>claim_id</th>\n",
       "      <th>customer_id</th>\n",
       "      <th>incident_cause</th>\n",
       "      <th>claim_date</th>\n",
       "      <th>claim_area</th>\n",
       "      <th>police_report</th>\n",
       "      <th>claim_type</th>\n",
       "      <th>claim_amount</th>\n",
       "      <th>total_policy_claims</th>\n",
       "      <th>fraudulent</th>\n",
       "      <th>alert_flag</th>\n",
       "      <th>Age</th>\n",
       "      <th>Age_type</th>\n",
       "      <th>driver_flag</th>\n",
       "      <th>Claim_year_month</th>\n",
       "    </tr>\n",
       "  </thead>\n",
       "  <tbody>\n",
       "    <tr>\n",
       "      <th>0</th>\n",
       "      <td>Male</td>\n",
       "      <td>1975-11-23</td>\n",
       "      <td>NC</td>\n",
       "      <td>651-379-2486</td>\n",
       "      <td>Silver</td>\n",
       "      <td>9476314</td>\n",
       "      <td>65176092</td>\n",
       "      <td>Other causes</td>\n",
       "      <td>2017-01-01</td>\n",
       "      <td>Auto</td>\n",
       "      <td>No</td>\n",
       "      <td>Material and injury</td>\n",
       "      <td>37290.0</td>\n",
       "      <td>3.0</td>\n",
       "      <td>No</td>\n",
       "      <td>1</td>\n",
       "      <td>42.0</td>\n",
       "      <td>Adult</td>\n",
       "      <td>Non-driver</td>\n",
       "      <td>Jan'17</td>\n",
       "    </tr>\n",
       "    <tr>\n",
       "      <th>1</th>\n",
       "      <td>Female</td>\n",
       "      <td>1974-11-04</td>\n",
       "      <td>KS</td>\n",
       "      <td>724-781-3692</td>\n",
       "      <td>Platinum</td>\n",
       "      <td>36457152</td>\n",
       "      <td>25634799</td>\n",
       "      <td>Driver error</td>\n",
       "      <td>2017-01-01</td>\n",
       "      <td>Auto</td>\n",
       "      <td>No</td>\n",
       "      <td>Material only</td>\n",
       "      <td>2900.0</td>\n",
       "      <td>2.0</td>\n",
       "      <td>No</td>\n",
       "      <td>0</td>\n",
       "      <td>43.0</td>\n",
       "      <td>Adult</td>\n",
       "      <td>driver related</td>\n",
       "      <td>Jan'17</td>\n",
       "    </tr>\n",
       "    <tr>\n",
       "      <th>2</th>\n",
       "      <td>Female</td>\n",
       "      <td>1999-08-05</td>\n",
       "      <td>NH</td>\n",
       "      <td>649-592-8793</td>\n",
       "      <td>Platinum</td>\n",
       "      <td>61374372</td>\n",
       "      <td>77219712</td>\n",
       "      <td>Other causes</td>\n",
       "      <td>2017-01-01</td>\n",
       "      <td>Auto</td>\n",
       "      <td>No</td>\n",
       "      <td>Material and injury</td>\n",
       "      <td>20200.0</td>\n",
       "      <td>1.0</td>\n",
       "      <td>No</td>\n",
       "      <td>1</td>\n",
       "      <td>19.0</td>\n",
       "      <td>Youth</td>\n",
       "      <td>Non-driver</td>\n",
       "      <td>Jan'17</td>\n",
       "    </tr>\n",
       "    <tr>\n",
       "      <th>3</th>\n",
       "      <td>Male</td>\n",
       "      <td>1969-06-08</td>\n",
       "      <td>FL</td>\n",
       "      <td>641-684-7986</td>\n",
       "      <td>Platinum</td>\n",
       "      <td>97666948</td>\n",
       "      <td>97514724</td>\n",
       "      <td>Driver error</td>\n",
       "      <td>2017-01-01</td>\n",
       "      <td>Home</td>\n",
       "      <td>No</td>\n",
       "      <td>Injury only</td>\n",
       "      <td>19120.0</td>\n",
       "      <td>1.0</td>\n",
       "      <td>No</td>\n",
       "      <td>1</td>\n",
       "      <td>49.0</td>\n",
       "      <td>Adult</td>\n",
       "      <td>driver related</td>\n",
       "      <td>Jan'17</td>\n",
       "    </tr>\n",
       "  </tbody>\n",
       "</table>\n",
       "</div>"
      ],
      "text/plain": [
       "   gender DateOfBirth State       Contact   Segment  claim_id  customer_id  \\\n",
       "0    Male  1975-11-23    NC  651-379-2486    Silver   9476314     65176092   \n",
       "1  Female  1974-11-04    KS  724-781-3692  Platinum  36457152     25634799   \n",
       "2  Female  1999-08-05    NH  649-592-8793  Platinum  61374372     77219712   \n",
       "3    Male  1969-06-08    FL  641-684-7986  Platinum  97666948     97514724   \n",
       "\n",
       "  incident_cause claim_date claim_area police_report           claim_type  \\\n",
       "0   Other causes 2017-01-01       Auto            No  Material and injury   \n",
       "1   Driver error 2017-01-01       Auto            No        Material only   \n",
       "2   Other causes 2017-01-01       Auto            No  Material and injury   \n",
       "3   Driver error 2017-01-01       Home            No          Injury only   \n",
       "\n",
       "   claim_amount  total_policy_claims fraudulent  alert_flag   Age Age_type  \\\n",
       "0       37290.0                  3.0         No           1  42.0    Adult   \n",
       "1        2900.0                  2.0         No           0  43.0    Adult   \n",
       "2       20200.0                  1.0         No           1  19.0    Youth   \n",
       "3       19120.0                  1.0         No           1  49.0    Adult   \n",
       "\n",
       "      driver_flag Claim_year_month  \n",
       "0      Non-driver           Jan'17  \n",
       "1  driver related           Jan'17  \n",
       "2      Non-driver           Jan'17  \n",
       "3  driver related           Jan'17  "
      ]
     },
     "execution_count": 58,
     "metadata": {},
     "output_type": "execute_result"
    }
   ],
   "source": [
    "Cust_claim_df.head(4)"
   ]
  },
  {
   "cell_type": "code",
   "execution_count": 59,
   "id": "899b9413-eb51-4831-9624-d8fd61cb3ca1",
   "metadata": {},
   "outputs": [],
   "source": [
    "monthly_claims = Cust_claim_df.groupby('Claim_year_month')['claim_amount'].sum().sort_index()"
   ]
  },
  {
   "cell_type": "code",
   "execution_count": 60,
   "id": "70996d62-fac7-4c7f-8e8f-bb0f47d47f1e",
   "metadata": {},
   "outputs": [],
   "source": [
    "monthly_claims.index = pd.to_datetime(monthly_claims.index, format=\"%b'%y\")"
   ]
  },
  {
   "cell_type": "code",
   "execution_count": 61,
   "id": "2833a7f8-83c6-4b62-9f21-cc342ff4395b",
   "metadata": {},
   "outputs": [],
   "source": [
    "monthly_claims = monthly_claims.sort_index()"
   ]
  },
  {
   "cell_type": "code",
   "execution_count": 62,
   "id": "b658e8cd-a31e-4816-8067-e73aa2f85cb7",
   "metadata": {},
   "outputs": [
    {
     "data": {
      "text/plain": [
       "Claim_year_month\n",
       "2017-01-01    610224.481031\n",
       "2017-02-01    633471.987354\n",
       "2017-03-01    617171.987354\n",
       "2017-04-01    749358.493677\n",
       "2017-05-01    547599.981031\n",
       "2017-06-01    599830.493677\n",
       "2017-07-01    790639.974708\n",
       "2017-08-01    433790.487354\n",
       "2017-09-01    459068.455739\n",
       "2017-10-01    650470.481031\n",
       "2017-11-01    625922.987354\n",
       "2017-12-01    725685.493677\n",
       "2018-01-01    721605.474708\n",
       "2018-02-01    523105.987354\n",
       "2018-03-01    731141.981031\n",
       "2018-04-01    528100.993677\n",
       "2018-05-01    567433.468385\n",
       "2018-06-01    716215.968385\n",
       "2018-07-01    591850.968385\n",
       "2018-08-01    479623.493677\n",
       "2018-09-01    521319.481031\n",
       "2018-10-01    778198.468385\n",
       "Name: claim_amount, dtype: float64"
      ]
     },
     "execution_count": 62,
     "metadata": {},
     "output_type": "execute_result"
    }
   ],
   "source": [
    "monthly_claims"
   ]
  },
  {
   "cell_type": "code",
   "execution_count": 63,
   "id": "25bf52ba-6b1f-4e8f-b547-ba012e8b386f",
   "metadata": {},
   "outputs": [],
   "source": [
    "monthly_claims.index  = monthly_claims.index.strftime(\"%b'%y\")"
   ]
  },
  {
   "cell_type": "code",
   "execution_count": 64,
   "id": "fceb71fa-eeb4-4ac8-956d-ad1119d59bdf",
   "metadata": {},
   "outputs": [
    {
     "data": {
      "text/plain": [
       "Claim_year_month\n",
       "Jan'17    610224.481031\n",
       "Feb'17    633471.987354\n",
       "Mar'17    617171.987354\n",
       "Apr'17    749358.493677\n",
       "May'17    547599.981031\n",
       "Jun'17    599830.493677\n",
       "Jul'17    790639.974708\n",
       "Aug'17    433790.487354\n",
       "Sep'17    459068.455739\n",
       "Oct'17    650470.481031\n",
       "Nov'17    625922.987354\n",
       "Dec'17    725685.493677\n",
       "Jan'18    721605.474708\n",
       "Feb'18    523105.987354\n",
       "Mar'18    731141.981031\n",
       "Apr'18    528100.993677\n",
       "May'18    567433.468385\n",
       "Jun'18    716215.968385\n",
       "Jul'18    591850.968385\n",
       "Aug'18    479623.493677\n",
       "Sep'18    521319.481031\n",
       "Oct'18    778198.468385\n",
       "Name: claim_amount, dtype: float64"
      ]
     },
     "execution_count": 64,
     "metadata": {},
     "output_type": "execute_result"
    }
   ],
   "source": [
    "monthly_claims"
   ]
  },
  {
   "cell_type": "code",
   "execution_count": 65,
   "id": "5ba8f744-de0e-4ba5-abec-f66f65c35fcc",
   "metadata": {},
   "outputs": [
    {
     "data": {
      "text/html": [
       "<div>\n",
       "<style scoped>\n",
       "    .dataframe tbody tr th:only-of-type {\n",
       "        vertical-align: middle;\n",
       "    }\n",
       "\n",
       "    .dataframe tbody tr th {\n",
       "        vertical-align: top;\n",
       "    }\n",
       "\n",
       "    .dataframe thead th {\n",
       "        text-align: right;\n",
       "    }\n",
       "</style>\n",
       "<table border=\"1\" class=\"dataframe\">\n",
       "  <thead>\n",
       "    <tr style=\"text-align: right;\">\n",
       "      <th></th>\n",
       "      <th>Claim_year_month</th>\n",
       "      <th>claim_amount</th>\n",
       "    </tr>\n",
       "  </thead>\n",
       "  <tbody>\n",
       "    <tr>\n",
       "      <th>0</th>\n",
       "      <td>Jan'17</td>\n",
       "      <td>610224.481031</td>\n",
       "    </tr>\n",
       "    <tr>\n",
       "      <th>1</th>\n",
       "      <td>Feb'17</td>\n",
       "      <td>633471.987354</td>\n",
       "    </tr>\n",
       "  </tbody>\n",
       "</table>\n",
       "</div>"
      ],
      "text/plain": [
       "  Claim_year_month   claim_amount\n",
       "0           Jan'17  610224.481031\n",
       "1           Feb'17  633471.987354"
      ]
     },
     "execution_count": 65,
     "metadata": {},
     "output_type": "execute_result"
    }
   ],
   "source": [
    "monthly_claims.reset_index().head(2)"
   ]
  },
  {
   "cell_type": "code",
   "execution_count": 66,
   "id": "0b95608c-2025-4bd1-ac6c-bfdd2c81a98e",
   "metadata": {},
   "outputs": [
    {
     "name": "stdout",
     "output_type": "stream",
     "text": [
      "Index(['Claim_year_month', 'claim_amount'], dtype='object')\n"
     ]
    }
   ],
   "source": [
    "monthly_claims = monthly_claims.reset_index()\n",
    "print(monthly_claims.columns)\n",
    "monthly_claims['Claim_year_month'] = monthly_claims[\"Claim_year_month\"].astype(str)"
   ]
  },
  {
   "cell_type": "code",
   "execution_count": 67,
   "id": "16d06997-1c3e-4d96-b1a1-c649a1b2ae31",
   "metadata": {},
   "outputs": [
    {
     "data": {
      "text/html": [
       "<div>\n",
       "<style scoped>\n",
       "    .dataframe tbody tr th:only-of-type {\n",
       "        vertical-align: middle;\n",
       "    }\n",
       "\n",
       "    .dataframe tbody tr th {\n",
       "        vertical-align: top;\n",
       "    }\n",
       "\n",
       "    .dataframe thead th {\n",
       "        text-align: right;\n",
       "    }\n",
       "</style>\n",
       "<table border=\"1\" class=\"dataframe\">\n",
       "  <thead>\n",
       "    <tr style=\"text-align: right;\">\n",
       "      <th></th>\n",
       "      <th>Claim_year_month</th>\n",
       "      <th>claim_amount</th>\n",
       "    </tr>\n",
       "  </thead>\n",
       "  <tbody>\n",
       "    <tr>\n",
       "      <th>0</th>\n",
       "      <td>Jan'17</td>\n",
       "      <td>610224.481031</td>\n",
       "    </tr>\n",
       "    <tr>\n",
       "      <th>1</th>\n",
       "      <td>Feb'17</td>\n",
       "      <td>633471.987354</td>\n",
       "    </tr>\n",
       "  </tbody>\n",
       "</table>\n",
       "</div>"
      ],
      "text/plain": [
       "  Claim_year_month   claim_amount\n",
       "0           Jan'17  610224.481031\n",
       "1           Feb'17  633471.987354"
      ]
     },
     "execution_count": 67,
     "metadata": {},
     "output_type": "execute_result"
    }
   ],
   "source": [
    "monthly_claims.head(2)"
   ]
  },
  {
   "cell_type": "code",
   "execution_count": 68,
   "id": "c7d343a8-2259-4384-8fe6-59b01269187e",
   "metadata": {},
   "outputs": [
    {
     "data": {
      "image/png": "[encoded data removed]",
      "text/plain": [
       "<Figure size 2700x500 with 1 Axes>"
      ]
     },
     "metadata": {},
     "output_type": "display_data"
    }
   ],
   "source": [
    "plt.figure(figsize=(27, 5))\n",
    "plt.plot(monthly_claims[\"Claim_year_month\"], monthly_claims[\"claim_amount\"], marker=\"o\", linestyle=\"-\", color=\"b\", linewidth=2, markersize=6, label=\"Claim Amount\")\n",
    "plt.show()"
   ]
  },
  {
   "cell_type": "markdown",
   "id": "a7607f83-975d-4741-8356-9bcacd35960e",
   "metadata": {},
   "source": [
    "15. What is the average claim amount for gender and age categories and suitably represent the above using facetted bar chart, one facet that represents fraudlent claims and the other for non fraudulent claims."
   ]
  },
  {
   "cell_type": "code",
   "execution_count": 69,
   "id": "eb394f64-0240-41f3-9317-fc33523a1c33",
   "metadata": {},
   "outputs": [
    {
     "data": {
      "text/html": [
       "<div>\n",
       "<style scoped>\n",
       "    .dataframe tbody tr th:only-of-type {\n",
       "        vertical-align: middle;\n",
       "    }\n",
       "\n",
       "    .dataframe tbody tr th {\n",
       "        vertical-align: top;\n",
       "    }\n",
       "\n",
       "    .dataframe thead th {\n",
       "        text-align: right;\n",
       "    }\n",
       "</style>\n",
       "<table border=\"1\" class=\"dataframe\">\n",
       "  <thead>\n",
       "    <tr style=\"text-align: right;\">\n",
       "      <th></th>\n",
       "      <th>gender</th>\n",
       "      <th>DateOfBirth</th>\n",
       "      <th>State</th>\n",
       "      <th>Contact</th>\n",
       "      <th>Segment</th>\n",
       "      <th>claim_id</th>\n",
       "      <th>customer_id</th>\n",
       "      <th>incident_cause</th>\n",
       "      <th>claim_date</th>\n",
       "      <th>claim_area</th>\n",
       "      <th>police_report</th>\n",
       "      <th>claim_type</th>\n",
       "      <th>claim_amount</th>\n",
       "      <th>total_policy_claims</th>\n",
       "      <th>fraudulent</th>\n",
       "      <th>alert_flag</th>\n",
       "      <th>Age</th>\n",
       "      <th>Age_type</th>\n",
       "      <th>driver_flag</th>\n",
       "      <th>Claim_year_month</th>\n",
       "    </tr>\n",
       "  </thead>\n",
       "  <tbody>\n",
       "    <tr>\n",
       "      <th>0</th>\n",
       "      <td>Male</td>\n",
       "      <td>1975-11-23</td>\n",
       "      <td>NC</td>\n",
       "      <td>651-379-2486</td>\n",
       "      <td>Silver</td>\n",
       "      <td>9476314</td>\n",
       "      <td>65176092</td>\n",
       "      <td>Other causes</td>\n",
       "      <td>2017-01-01</td>\n",
       "      <td>Auto</td>\n",
       "      <td>No</td>\n",
       "      <td>Material and injury</td>\n",
       "      <td>37290.0</td>\n",
       "      <td>3.0</td>\n",
       "      <td>No</td>\n",
       "      <td>1</td>\n",
       "      <td>42.0</td>\n",
       "      <td>Adult</td>\n",
       "      <td>Non-driver</td>\n",
       "      <td>Jan'17</td>\n",
       "    </tr>\n",
       "    <tr>\n",
       "      <th>1</th>\n",
       "      <td>Female</td>\n",
       "      <td>1974-11-04</td>\n",
       "      <td>KS</td>\n",
       "      <td>724-781-3692</td>\n",
       "      <td>Platinum</td>\n",
       "      <td>36457152</td>\n",
       "      <td>25634799</td>\n",
       "      <td>Driver error</td>\n",
       "      <td>2017-01-01</td>\n",
       "      <td>Auto</td>\n",
       "      <td>No</td>\n",
       "      <td>Material only</td>\n",
       "      <td>2900.0</td>\n",
       "      <td>2.0</td>\n",
       "      <td>No</td>\n",
       "      <td>0</td>\n",
       "      <td>43.0</td>\n",
       "      <td>Adult</td>\n",
       "      <td>driver related</td>\n",
       "      <td>Jan'17</td>\n",
       "    </tr>\n",
       "  </tbody>\n",
       "</table>\n",
       "</div>"
      ],
      "text/plain": [
       "   gender DateOfBirth State       Contact   Segment  claim_id  customer_id  \\\n",
       "0    Male  1975-11-23    NC  651-379-2486    Silver   9476314     65176092   \n",
       "1  Female  1974-11-04    KS  724-781-3692  Platinum  36457152     25634799   \n",
       "\n",
       "  incident_cause claim_date claim_area police_report           claim_type  \\\n",
       "0   Other causes 2017-01-01       Auto            No  Material and injury   \n",
       "1   Driver error 2017-01-01       Auto            No        Material only   \n",
       "\n",
       "   claim_amount  total_policy_claims fraudulent  alert_flag   Age Age_type  \\\n",
       "0       37290.0                  3.0         No           1  42.0    Adult   \n",
       "1        2900.0                  2.0         No           0  43.0    Adult   \n",
       "\n",
       "      driver_flag Claim_year_month  \n",
       "0      Non-driver           Jan'17  \n",
       "1  driver related           Jan'17  "
      ]
     },
     "execution_count": 69,
     "metadata": {},
     "output_type": "execute_result"
    }
   ],
   "source": [
    "Cust_claim_df.head(2)"
   ]
  },
  {
   "cell_type": "code",
   "execution_count": 70,
   "id": "ffd68b68-8fce-441c-8df4-251333f8c13f",
   "metadata": {},
   "outputs": [
    {
     "data": {
      "text/html": [
       "<div>\n",
       "<style scoped>\n",
       "    .dataframe tbody tr th:only-of-type {\n",
       "        vertical-align: middle;\n",
       "    }\n",
       "\n",
       "    .dataframe tbody tr th {\n",
       "        vertical-align: top;\n",
       "    }\n",
       "\n",
       "    .dataframe thead th {\n",
       "        text-align: right;\n",
       "    }\n",
       "</style>\n",
       "<table border=\"1\" class=\"dataframe\">\n",
       "  <thead>\n",
       "    <tr style=\"text-align: right;\">\n",
       "      <th></th>\n",
       "      <th>fraudulent</th>\n",
       "      <th>No</th>\n",
       "      <th>Yes</th>\n",
       "    </tr>\n",
       "    <tr>\n",
       "      <th>gender</th>\n",
       "      <th>Age_type</th>\n",
       "      <th></th>\n",
       "      <th></th>\n",
       "    </tr>\n",
       "  </thead>\n",
       "  <tbody>\n",
       "    <tr>\n",
       "      <th rowspan=\"4\" valign=\"top\">Female</th>\n",
       "      <th>Child</th>\n",
       "      <td>0.00</td>\n",
       "      <td>0.00</td>\n",
       "    </tr>\n",
       "    <tr>\n",
       "      <th>Youth</th>\n",
       "      <td>1613742.47</td>\n",
       "      <td>285908.97</td>\n",
       "    </tr>\n",
       "    <tr>\n",
       "      <th>Adult</th>\n",
       "      <td>3368192.91</td>\n",
       "      <td>1108986.97</td>\n",
       "    </tr>\n",
       "    <tr>\n",
       "      <th>Senior</th>\n",
       "      <td>0.00</td>\n",
       "      <td>0.00</td>\n",
       "    </tr>\n",
       "    <tr>\n",
       "      <th rowspan=\"4\" valign=\"top\">Male</th>\n",
       "      <th>Child</th>\n",
       "      <td>0.00</td>\n",
       "      <td>0.00</td>\n",
       "    </tr>\n",
       "    <tr>\n",
       "      <th>Youth</th>\n",
       "      <td>1727524.94</td>\n",
       "      <td>479531.48</td>\n",
       "    </tr>\n",
       "    <tr>\n",
       "      <th>Adult</th>\n",
       "      <td>3601885.38</td>\n",
       "      <td>1416058.47</td>\n",
       "    </tr>\n",
       "    <tr>\n",
       "      <th>Senior</th>\n",
       "      <td>0.00</td>\n",
       "      <td>0.00</td>\n",
       "    </tr>\n",
       "  </tbody>\n",
       "</table>\n",
       "</div>"
      ],
      "text/plain": [
       "fraudulent               No         Yes\n",
       "gender Age_type                        \n",
       "Female Child           0.00        0.00\n",
       "       Youth     1613742.47   285908.97\n",
       "       Adult     3368192.91  1108986.97\n",
       "       Senior          0.00        0.00\n",
       "Male   Child           0.00        0.00\n",
       "       Youth     1727524.94   479531.48\n",
       "       Adult     3601885.38  1416058.47\n",
       "       Senior          0.00        0.00"
      ]
     },
     "execution_count": 70,
     "metadata": {},
     "output_type": "execute_result"
    }
   ],
   "source": [
    "Cust_claim_df.pivot_table(index=['gender','Age_type'], columns='fraudulent', values='claim_amount', aggfunc=np.sum).round(2)"
   ]
  },
  {
   "cell_type": "code",
   "execution_count": 71,
   "id": "4981427b-c0a7-447c-9b0c-fd672a39b8a9",
   "metadata": {},
   "outputs": [],
   "source": [
    "Avg_claim_df = Cust_claim_df.groupby(by=['gender','Age_type','fraudulent'])[['claim_amount']].mean().reset_index()"
   ]
  },
  {
   "cell_type": "code",
   "execution_count": 72,
   "id": "b2a7b1b2-b018-497d-b150-c3e48bc09b31",
   "metadata": {},
   "outputs": [
    {
     "data": {
      "text/html": [
       "<div>\n",
       "<style scoped>\n",
       "    .dataframe tbody tr th:only-of-type {\n",
       "        vertical-align: middle;\n",
       "    }\n",
       "\n",
       "    .dataframe tbody tr th {\n",
       "        vertical-align: top;\n",
       "    }\n",
       "\n",
       "    .dataframe thead th {\n",
       "        text-align: right;\n",
       "    }\n",
       "</style>\n",
       "<table border=\"1\" class=\"dataframe\">\n",
       "  <thead>\n",
       "    <tr style=\"text-align: right;\">\n",
       "      <th></th>\n",
       "      <th>gender</th>\n",
       "      <th>Age_type</th>\n",
       "      <th>fraudulent</th>\n",
       "      <th>claim_amount</th>\n",
       "    </tr>\n",
       "  </thead>\n",
       "  <tbody>\n",
       "    <tr>\n",
       "      <th>0</th>\n",
       "      <td>Female</td>\n",
       "      <td>Child</td>\n",
       "      <td>No</td>\n",
       "      <td>NaN</td>\n",
       "    </tr>\n",
       "    <tr>\n",
       "      <th>1</th>\n",
       "      <td>Female</td>\n",
       "      <td>Child</td>\n",
       "      <td>Yes</td>\n",
       "      <td>NaN</td>\n",
       "    </tr>\n",
       "  </tbody>\n",
       "</table>\n",
       "</div>"
      ],
      "text/plain": [
       "   gender Age_type fraudulent  claim_amount\n",
       "0  Female    Child         No           NaN\n",
       "1  Female    Child        Yes           NaN"
      ]
     },
     "execution_count": 72,
     "metadata": {},
     "output_type": "execute_result"
    }
   ],
   "source": [
    "Avg_claim_df.head(2)"
   ]
  },
  {
   "cell_type": "code",
   "execution_count": 73,
   "id": "ce2fcdda-1291-4416-a2b1-3cb83b434334",
   "metadata": {},
   "outputs": [
    {
     "data": {
      "image/png": "[encoded data removed]",
      "text/plain": [
       "<Figure size 1100.25x500 with 2 Axes>"
      ]
     },
     "metadata": {},
     "output_type": "display_data"
    }
   ],
   "source": [
    "e = sns.catplot(data=Avg_claim_df, kind='bar', x='Age_type', y='claim_amount', hue='gender', col='fraudulent', palette='Set2', height=5, aspect=1)\n",
    "e.set_axis_labels(\"Age Category\", \"Average Claim Amount\")\n",
    "for ax in e.axes.flat:\n",
    "    for container in ax.containers:\n",
    "        ax.bar_label(container, fmt='%.0f', label_type='edge', padding=2)\n",
    "plt.show()"
   ]
  },
  {
   "cell_type": "markdown",
   "id": "182b8ff4-9a61-495c-abd1-cda1a3eeb8a9",
   "metadata": {},
   "source": [
    "Based on the conclusions from exploratory analysis as well as suitable \n",
    "statistical tests, answer the below questions. Please include a detailed \n",
    "write-up on the parameters taken into consideration, the Hypothesis \n",
    "testing steps, conclusion from the p-values and the business implications of \n",
    "the statements."
   ]
  },
  {
   "cell_type": "markdown",
   "id": "fa273737-2fc4-4541-a0af-a28dec9cabf6",
   "metadata": {},
   "source": [
    "16. Is there any similarity in the amount claimed by males and females?"
   ]
  },
  {
   "cell_type": "markdown",
   "id": "0064c2bf-f4a5-4212-a39e-4f5619b01a37",
   "metadata": {},
   "source": [
    "male and female are independent group we use ttest independent\n",
    "\n",
    "null hypothesis h0 - u1 = u2\n",
    "                ha - u1 <> u2\n",
    "     confidence interval = 95%\n",
    "     p value = 0.05"
   ]
  },
  {
   "cell_type": "code",
   "execution_count": 74,
   "id": "9bcc27d0-e948-4eb6-be66-8c1b1af16656",
   "metadata": {},
   "outputs": [
    {
     "data": {
      "text/plain": [
       "Index(['gender', 'DateOfBirth', 'State', 'Contact', 'Segment', 'claim_id',\n",
       "       'customer_id', 'incident_cause', 'claim_date', 'claim_area',\n",
       "       'police_report', 'claim_type', 'claim_amount', 'total_policy_claims',\n",
       "       'fraudulent', 'alert_flag', 'Age', 'Age_type', 'driver_flag',\n",
       "       'Claim_year_month'],\n",
       "      dtype='object')"
      ]
     },
     "execution_count": 74,
     "metadata": {},
     "output_type": "execute_result"
    }
   ],
   "source": [
    "Cust_claim_df.columns"
   ]
  },
  {
   "cell_type": "code",
   "execution_count": 75,
   "id": "0a6cd50a-64e8-4046-812e-b31373a0ce23",
   "metadata": {},
   "outputs": [],
   "source": [
    "Male_claims = Cust_claim_df[Cust_claim_df['gender'] == 'Male']['claim_amount']"
   ]
  },
  {
   "cell_type": "code",
   "execution_count": 76,
   "id": "db83da7f-9153-4589-857e-d6d660359e63",
   "metadata": {},
   "outputs": [],
   "source": [
    "Female_claims = Cust_claim_df[Cust_claim_df['gender'] =='Female']['claim_amount']"
   ]
  },
  {
   "cell_type": "markdown",
   "id": "4433a40a-dfbb-4f1f-a8b0-4bdceea0599e",
   "metadata": {},
   "source": [
    "Perform independent ttest"
   ]
  },
  {
   "cell_type": "code",
   "execution_count": 77,
   "id": "2db835c8-d4f6-4020-8c5c-91367858d1e0",
   "metadata": {},
   "outputs": [],
   "source": [
    "t_stat,p_value = stats.ttest_ind(Male_claims,Female_claims, equal_var= False)"
   ]
  },
  {
   "cell_type": "code",
   "execution_count": 78,
   "id": "6a1b2e2b-bedb-48fa-a843-9b29fad4d3b9",
   "metadata": {},
   "outputs": [
    {
     "data": {
      "text/plain": [
       "(0.8230533193483074, 0.4106578395333297)"
      ]
     },
     "execution_count": 78,
     "metadata": {},
     "output_type": "execute_result"
    }
   ],
   "source": [
    "t_stat,p_value"
   ]
  },
  {
   "cell_type": "code",
   "execution_count": 79,
   "id": "b5e5645f-ed9f-4d0b-8bc7-16b8bc2b1f86",
   "metadata": {},
   "outputs": [
    {
     "name": "stdout",
     "output_type": "stream",
     "text": [
      "No significant difference in claim amount between Male and Female.\n"
     ]
    }
   ],
   "source": [
    "if p_value < 0.05:\n",
    "    print(\"Significant difference in claim_amounts between male & Female.\")\n",
    "else:\n",
    "    print(\"No significant difference in claim amount between Male and Female.\")"
   ]
  },
  {
   "cell_type": "code",
   "execution_count": 80,
   "id": "4427a2a5-6aaa-4568-9fba-291c5eccc7bd",
   "metadata": {},
   "outputs": [
    {
     "data": {
      "text/plain": [
       "12765.018149069861"
      ]
     },
     "execution_count": 80,
     "metadata": {},
     "output_type": "execute_result"
    }
   ],
   "source": [
    "Male_claims.mean()"
   ]
  },
  {
   "cell_type": "code",
   "execution_count": 81,
   "id": "003dd2ff-3cdb-4ff2-8a1d-99097c71a030",
   "metadata": {},
   "outputs": [
    {
     "data": {
      "text/plain": [
       "12100.249177674083"
      ]
     },
     "execution_count": 81,
     "metadata": {},
     "output_type": "execute_result"
    }
   ],
   "source": [
    "Female_claims.mean()"
   ]
  },
  {
   "cell_type": "markdown",
   "id": "11de94a6-e408-4221-9c44-338a2b52904f",
   "metadata": {},
   "source": [
    "17. Is there any relationship between age_type and segment?"
   ]
  },
  {
   "cell_type": "markdown",
   "id": "44d8041a-a6e8-4555-bec7-d2597006cf02",
   "metadata": {},
   "source": [
    "Since both are categorical variables we use chi-square test to find out relationship between age_type and segment."
   ]
  },
  {
   "cell_type": "markdown",
   "id": "659bc9ca-b1a4-46c4-8916-0b8c59fc3ad1",
   "metadata": {},
   "source": [
    "Null Hypothesis = H0 = No Relationship between age_type and Segment.\n",
    "Alternate Hypothesis = H1 = Relationship between age_type and Segment."
   ]
  },
  {
   "cell_type": "markdown",
   "id": "1b961904-ba08-4f8b-bcf7-f36318ecb8a2",
   "metadata": {},
   "source": [
    "Contingency Tables are commonly used for chi-square test of independance."
   ]
  },
  {
   "cell_type": "code",
   "execution_count": 82,
   "id": "3964e10c-ed92-45ac-b986-db43f5936e11",
   "metadata": {},
   "outputs": [
    {
     "data": {
      "text/plain": [
       "Index(['gender', 'DateOfBirth', 'State', 'Contact', 'Segment', 'claim_id',\n",
       "       'customer_id', 'incident_cause', 'claim_date', 'claim_area',\n",
       "       'police_report', 'claim_type', 'claim_amount', 'total_policy_claims',\n",
       "       'fraudulent', 'alert_flag', 'Age', 'Age_type', 'driver_flag',\n",
       "       'Claim_year_month'],\n",
       "      dtype='object')"
      ]
     },
     "execution_count": 82,
     "metadata": {},
     "output_type": "execute_result"
    }
   ],
   "source": [
    "Cust_claim_df.columns"
   ]
  },
  {
   "cell_type": "code",
   "execution_count": 83,
   "id": "245f84b4-3d05-4928-b4c5-3cf1f3f252aa",
   "metadata": {},
   "outputs": [],
   "source": [
    "contingency_table = pd.crosstab(Cust_claim_df['Age_type'], Cust_claim_df['Segment'])"
   ]
  },
  {
   "cell_type": "code",
   "execution_count": 84,
   "id": "b0eac2a4-5fb5-4b83-8724-84ae7e2dbf24",
   "metadata": {},
   "outputs": [
    {
     "data": {
      "text/html": [
       "<div>\n",
       "<style scoped>\n",
       "    .dataframe tbody tr th:only-of-type {\n",
       "        vertical-align: middle;\n",
       "    }\n",
       "\n",
       "    .dataframe tbody tr th {\n",
       "        vertical-align: top;\n",
       "    }\n",
       "\n",
       "    .dataframe thead th {\n",
       "        text-align: right;\n",
       "    }\n",
       "</style>\n",
       "<table border=\"1\" class=\"dataframe\">\n",
       "  <thead>\n",
       "    <tr style=\"text-align: right;\">\n",
       "      <th>Segment</th>\n",
       "      <th>Gold</th>\n",
       "      <th>Platinum</th>\n",
       "      <th>Silver</th>\n",
       "    </tr>\n",
       "    <tr>\n",
       "      <th>Age_type</th>\n",
       "      <th></th>\n",
       "      <th></th>\n",
       "      <th></th>\n",
       "    </tr>\n",
       "  </thead>\n",
       "  <tbody>\n",
       "    <tr>\n",
       "      <th>Youth</th>\n",
       "      <td>126</td>\n",
       "      <td>120</td>\n",
       "      <td>108</td>\n",
       "    </tr>\n",
       "    <tr>\n",
       "      <th>Adult</th>\n",
       "      <td>260</td>\n",
       "      <td>241</td>\n",
       "      <td>238</td>\n",
       "    </tr>\n",
       "  </tbody>\n",
       "</table>\n",
       "</div>"
      ],
      "text/plain": [
       "Segment   Gold  Platinum  Silver\n",
       "Age_type                        \n",
       "Youth      126       120     108\n",
       "Adult      260       241     238"
      ]
     },
     "execution_count": 84,
     "metadata": {},
     "output_type": "execute_result"
    }
   ],
   "source": [
    "contingency_table"
   ]
  },
  {
   "cell_type": "code",
   "execution_count": 85,
   "id": "624d8736-6e92-4786-869e-2cb49613fe5b",
   "metadata": {},
   "outputs": [
    {
     "data": {
      "text/plain": [
       "Chi2ContingencyResult(statistic=0.3491851180924322, pvalue=0.8397991196262199, dof=2, expected_freq=array([[125.01738335, 116.92040256, 112.06221409],\n",
       "       [260.98261665, 244.07959744, 233.93778591]]))"
      ]
     },
     "execution_count": 85,
     "metadata": {},
     "output_type": "execute_result"
    }
   ],
   "source": [
    "stats.chi2_contingency(contingency_table)"
   ]
  },
  {
   "cell_type": "markdown",
   "id": "2c61ae8b-63eb-429b-970b-3d277bdbb189",
   "metadata": {},
   "source": [
    "Since we fail to reject null hypothesis h0.\n",
    "Conclusion - No Relationship between age_type and Segment."
   ]
  },
  {
   "cell_type": "code",
   "execution_count": 86,
   "id": "a5dd1f3d-e47c-4c63-afe7-f8fad79c1144",
   "metadata": {},
   "outputs": [
    {
     "name": "stdout",
     "output_type": "stream",
     "text": [
      "No Significant relationship between Age_type & Segment\n"
     ]
    }
   ],
   "source": [
    "if p_value < 0.05:\n",
    "    print(\"Significant relationship between Age_type & Segment.\")\n",
    "else:\n",
    "    print(\"No Significant relationship between Age_type & Segment\")"
   ]
  },
  {
   "cell_type": "markdown",
   "id": "95aad4ce-c818-44dd-bce3-f0a6af6ebbc4",
   "metadata": {},
   "source": [
    "18. The Current year has shown a significant rise in claim_amount as compared to fiscal year 2016-17."
   ]
  },
  {
   "cell_type": "code",
   "execution_count": 87,
   "id": "afa17a47-1cb0-4e95-be13-c2faf66a140d",
   "metadata": {},
   "outputs": [
    {
     "data": {
      "text/plain": [
       "Index(['gender', 'DateOfBirth', 'State', 'Contact', 'Segment', 'claim_id',\n",
       "       'customer_id', 'incident_cause', 'claim_date', 'claim_area',\n",
       "       'police_report', 'claim_type', 'claim_amount', 'total_policy_claims',\n",
       "       'fraudulent', 'alert_flag', 'Age', 'Age_type', 'driver_flag',\n",
       "       'Claim_year_month'],\n",
       "      dtype='object')"
      ]
     },
     "execution_count": 87,
     "metadata": {},
     "output_type": "execute_result"
    }
   ],
   "source": [
    "Cust_claim_df.columns"
   ]
  },
  {
   "cell_type": "code",
   "execution_count": 88,
   "id": "153a3414-3903-4c18-ac67-5103624817a0",
   "metadata": {},
   "outputs": [],
   "source": [
    "Current_year = Cust_claim_df['claim_amount'][(Cust_claim_df['claim_date']>'2018-04-01')]"
   ]
  },
  {
   "cell_type": "code",
   "execution_count": 89,
   "id": "e19fc04b-a22b-4740-bfe6-229f3bc9cb9c",
   "metadata": {},
   "outputs": [],
   "source": [
    "Previous_year = Cust_claim_df['claim_amount'][(Cust_claim_df['claim_date']<'2018-04-01')]"
   ]
  },
  {
   "cell_type": "code",
   "execution_count": 90,
   "id": "c40c0198-d6aa-44ed-9829-e58f3b835659",
   "metadata": {},
   "outputs": [
    {
     "data": {
      "text/plain": [
       "12194.585544973967"
      ]
     },
     "execution_count": 90,
     "metadata": {},
     "output_type": "execute_result"
    }
   ],
   "source": [
    "Current_year.mean()"
   ]
  },
  {
   "cell_type": "code",
   "execution_count": 91,
   "id": "b3c9d5ec-feac-48cc-9a2f-292de2d6110a",
   "metadata": {},
   "outputs": [
    {
     "data": {
      "text/plain": [
       "12558.784996108949"
      ]
     },
     "execution_count": 91,
     "metadata": {},
     "output_type": "execute_result"
    }
   ],
   "source": [
    "Previous_year.mean()"
   ]
  },
  {
   "cell_type": "code",
   "execution_count": 92,
   "id": "c844c4d0-c784-4c8a-b8f0-8b114b013200",
   "metadata": {},
   "outputs": [],
   "source": [
    "t_stat, p_value  = stats.ttest_ind(Current_year,Previous_year, equal_var=False)"
   ]
  },
  {
   "cell_type": "code",
   "execution_count": 93,
   "id": "ad1ba1b9-898e-4fa3-81bc-ecbb99517750",
   "metadata": {},
   "outputs": [
    {
     "data": {
      "text/plain": [
       "(-0.4228696929305141, 0.6725237751218317)"
      ]
     },
     "execution_count": 93,
     "metadata": {},
     "output_type": "execute_result"
    }
   ],
   "source": [
    "t_stat, p_value"
   ]
  },
  {
   "cell_type": "code",
   "execution_count": 94,
   "id": "d0af3bb6-d71b-45c5-a5d4-f1e75c57e7ca",
   "metadata": {},
   "outputs": [
    {
     "name": "stdout",
     "output_type": "stream",
     "text": [
      "No Significant rise in Current year claim_amount as compared to fiscal year 2016-17.\n"
     ]
    }
   ],
   "source": [
    "if p_value < 0.05:\n",
    "    print(\"Significant rise in Current year claim_amount as compared to fiscal year 2016-17.\")\n",
    "else:\n",
    "    print(\"No Significant rise in Current year claim_amount as compared to fiscal year 2016-17.\")"
   ]
  },
  {
   "cell_type": "markdown",
   "id": "7ea4eb06-b43a-4fe2-ac55-ccdd907332a8",
   "metadata": {},
   "source": [
    "19. Is there any relation between Age_type and insurance claims?"
   ]
  },
  {
   "cell_type": "markdown",
   "id": "1e8221c0-ccb1-4b73-966d-17032d84483a",
   "metadata": {},
   "source": [
    "null hypothesis = h0 = \"No relationship between Age_type and insurance claim.\"\n",
    "alternate hypothesis = h1 = \"relationship between Age_type and insurance claim.\""
   ]
  },
  {
   "cell_type": "code",
   "execution_count": 95,
   "id": "e7a7a57c-85a7-456f-99be-7b82984b430d",
   "metadata": {},
   "outputs": [],
   "source": [
    "Adult  = Cust_claim_df['total_policy_claims'][Cust_claim_df['Age_type'] == 'Adult']\n",
    "Youth = Cust_claim_df['total_policy_claims'][Cust_claim_df['Age_type'] =='Youth']"
   ]
  },
  {
   "cell_type": "code",
   "execution_count": 96,
   "id": "1d7aa49b-0f9f-40f5-9c11-fb7a18a9f1fe",
   "metadata": {},
   "outputs": [],
   "source": [
    "contingency_table = pd.crosstab(Cust_claim_df['Age_type'], Cust_claim_df['total_policy_claims'])"
   ]
  },
  {
   "cell_type": "code",
   "execution_count": 97,
   "id": "3f6ac861-9140-4520-a733-c4a4293f814d",
   "metadata": {},
   "outputs": [
    {
     "data": {
      "text/html": [
       "<div>\n",
       "<style scoped>\n",
       "    .dataframe tbody tr th:only-of-type {\n",
       "        vertical-align: middle;\n",
       "    }\n",
       "\n",
       "    .dataframe tbody tr th {\n",
       "        vertical-align: top;\n",
       "    }\n",
       "\n",
       "    .dataframe thead th {\n",
       "        text-align: right;\n",
       "    }\n",
       "</style>\n",
       "<table border=\"1\" class=\"dataframe\">\n",
       "  <thead>\n",
       "    <tr style=\"text-align: right;\">\n",
       "      <th>total_policy_claims</th>\n",
       "      <th>1.000000</th>\n",
       "      <th>1.587258</th>\n",
       "      <th>2.000000</th>\n",
       "      <th>3.000000</th>\n",
       "      <th>4.000000</th>\n",
       "      <th>5.000000</th>\n",
       "      <th>6.000000</th>\n",
       "      <th>7.000000</th>\n",
       "      <th>8.000000</th>\n",
       "    </tr>\n",
       "    <tr>\n",
       "      <th>Age_type</th>\n",
       "      <th></th>\n",
       "      <th></th>\n",
       "      <th></th>\n",
       "      <th></th>\n",
       "      <th></th>\n",
       "      <th></th>\n",
       "      <th></th>\n",
       "      <th></th>\n",
       "      <th></th>\n",
       "    </tr>\n",
       "  </thead>\n",
       "  <tbody>\n",
       "    <tr>\n",
       "      <th>Youth</th>\n",
       "      <td>260</td>\n",
       "      <td>3</td>\n",
       "      <td>29</td>\n",
       "      <td>25</td>\n",
       "      <td>20</td>\n",
       "      <td>11</td>\n",
       "      <td>4</td>\n",
       "      <td>1</td>\n",
       "      <td>1</td>\n",
       "    </tr>\n",
       "    <tr>\n",
       "      <th>Adult</th>\n",
       "      <td>529</td>\n",
       "      <td>7</td>\n",
       "      <td>77</td>\n",
       "      <td>64</td>\n",
       "      <td>40</td>\n",
       "      <td>16</td>\n",
       "      <td>5</td>\n",
       "      <td>1</td>\n",
       "      <td>0</td>\n",
       "    </tr>\n",
       "  </tbody>\n",
       "</table>\n",
       "</div>"
      ],
      "text/plain": [
       "total_policy_claims  1.000000  1.587258  2.000000  3.000000  4.000000  \\\n",
       "Age_type                                                                \n",
       "Youth                     260         3        29        25        20   \n",
       "Adult                     529         7        77        64        40   \n",
       "\n",
       "total_policy_claims  5.000000  6.000000  7.000000  8.000000  \n",
       "Age_type                                                     \n",
       "Youth                      11         4         1         1  \n",
       "Adult                      16         5         1         0  "
      ]
     },
     "execution_count": 97,
     "metadata": {},
     "output_type": "execute_result"
    }
   ],
   "source": [
    "contingency_table"
   ]
  },
  {
   "cell_type": "code",
   "execution_count": 98,
   "id": "0e2aa5d7-3669-495a-923f-ff12f6ad22d7",
   "metadata": {},
   "outputs": [],
   "source": [
    "chi2_stat, p_value, dof, excepted = stats.chi2_contingency(contingency_table)"
   ]
  },
  {
   "cell_type": "code",
   "execution_count": 99,
   "id": "bce22d9f-ea9a-40c0-9e6e-b44605bdd0ae",
   "metadata": {},
   "outputs": [
    {
     "data": {
      "text/plain": [
       "(5.969389283512504,\n",
       " 0.6506608841704065,\n",
       " 8,\n",
       " array([[2.55540714e+02, 3.23879231e+00, 3.43311985e+01, 2.88252516e+01,\n",
       "         1.94327539e+01, 8.74473925e+00, 2.91491308e+00, 6.47758463e-01,\n",
       "         3.23879231e-01],\n",
       "        [5.33459286e+02, 6.76120769e+00, 7.16688015e+01, 6.01747484e+01,\n",
       "         4.05672461e+01, 1.82552608e+01, 6.08508692e+00, 1.35224154e+00,\n",
       "         6.76120769e-01]]))"
      ]
     },
     "execution_count": 99,
     "metadata": {},
     "output_type": "execute_result"
    }
   ],
   "source": [
    "chi2_stat, p_value, dof, excepted"
   ]
  },
  {
   "cell_type": "code",
   "execution_count": 100,
   "id": "b8c756ff-a071-4be7-8adf-ac8022485db6",
   "metadata": {},
   "outputs": [
    {
     "name": "stdout",
     "output_type": "stream",
     "text": [
      "No significant relationship between age group and insurance claims.\n"
     ]
    }
   ],
   "source": [
    "if p_value < 0.05:\n",
    "    print(\"There is a significant relationship between age group and insurance claims.\")\n",
    "else:\n",
    "    print(\"No significant relationship between age group and insurance claims.\")"
   ]
  },
  {
   "cell_type": "markdown",
   "id": "948f0fa2-1e14-4f19-887b-1a71e8338dc9",
   "metadata": {},
   "source": [
    "20. Is there any relationship between total number of policy claims and the claimed amount?"
   ]
  },
  {
   "cell_type": "code",
   "execution_count": 101,
   "id": "756921e3-1c95-4026-9581-8cddee766616",
   "metadata": {},
   "outputs": [
    {
     "data": {
      "text/plain": [
       "Index(['gender', 'DateOfBirth', 'State', 'Contact', 'Segment', 'claim_id',\n",
       "       'customer_id', 'incident_cause', 'claim_date', 'claim_area',\n",
       "       'police_report', 'claim_type', 'claim_amount', 'total_policy_claims',\n",
       "       'fraudulent', 'alert_flag', 'Age', 'Age_type', 'driver_flag',\n",
       "       'Claim_year_month'],\n",
       "      dtype='object')"
      ]
     },
     "execution_count": 101,
     "metadata": {},
     "output_type": "execute_result"
    }
   ],
   "source": [
    "Cust_claim_df.columns"
   ]
  },
  {
   "cell_type": "code",
   "execution_count": 102,
   "id": "5762c849-64bd-4665-aeb6-88ed1dd21ed4",
   "metadata": {},
   "outputs": [
    {
     "data": {
      "text/html": [
       "<div>\n",
       "<style scoped>\n",
       "    .dataframe tbody tr th:only-of-type {\n",
       "        vertical-align: middle;\n",
       "    }\n",
       "\n",
       "    .dataframe tbody tr th {\n",
       "        vertical-align: top;\n",
       "    }\n",
       "\n",
       "    .dataframe thead th {\n",
       "        text-align: right;\n",
       "    }\n",
       "</style>\n",
       "<table border=\"1\" class=\"dataframe\">\n",
       "  <thead>\n",
       "    <tr style=\"text-align: right;\">\n",
       "      <th></th>\n",
       "      <th>total_policy_claims</th>\n",
       "      <th>claim_amount</th>\n",
       "    </tr>\n",
       "  </thead>\n",
       "  <tbody>\n",
       "    <tr>\n",
       "      <th>total_policy_claims</th>\n",
       "      <td>1.000000</td>\n",
       "      <td>-0.016401</td>\n",
       "    </tr>\n",
       "    <tr>\n",
       "      <th>claim_amount</th>\n",
       "      <td>-0.016401</td>\n",
       "      <td>1.000000</td>\n",
       "    </tr>\n",
       "  </tbody>\n",
       "</table>\n",
       "</div>"
      ],
      "text/plain": [
       "                     total_policy_claims  claim_amount\n",
       "total_policy_claims             1.000000     -0.016401\n",
       "claim_amount                   -0.016401      1.000000"
      ]
     },
     "execution_count": 102,
     "metadata": {},
     "output_type": "execute_result"
    }
   ],
   "source": [
    "Cust_claim_df[['total_policy_claims','claim_amount']].corr()"
   ]
  },
  {
   "cell_type": "code",
   "execution_count": 103,
   "id": "af2ba9ff-df9b-46d8-a915-b3154788dcf9",
   "metadata": {},
   "outputs": [
    {
     "data": {
      "image/png": "[encoded data removed]",
      "text/plain": [
       "<Figure size 640x480 with 1 Axes>"
      ]
     },
     "metadata": {},
     "output_type": "display_data"
    }
   ],
   "source": [
    "sns.scatterplot(data=Cust_claim_df, x='total_policy_claims', y='claim_amount')\n",
    "plt.show()"
   ]
  },
  {
   "cell_type": "code",
   "execution_count": 104,
   "id": "1c719c3e-5b55-4554-8baa-f087870adec8",
   "metadata": {},
   "outputs": [],
   "source": [
    "# There is No relation between Total Policy Claim & Claim Aount."
   ]
  }
 ],
 "metadata": {
  "kernelspec": {
   "display_name": "Python 3 (ipykernel)",
   "language": "python",
   "name": "python3"
  },
  "language_info": {
   "codemirror_mode": {
    "name": "ipython",
    "version": 3
   },
   "file_extension": ".py",
   "mimetype": "text/x-python",
   "name": "python",
   "nbconvert_exporter": "python",
   "pygments_lexer": "ipython3",
   "version": "3.12.7"
  }
 },
 "nbformat": 4,
 "nbformat_minor": 5
}
